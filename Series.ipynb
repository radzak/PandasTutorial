{
 "cells": [
  {
   "cell_type": "code",
   "execution_count": 2,
   "metadata": {
    "collapsed": true
   },
   "outputs": [],
   "source": [
    "import pandas as pd\n",
    "import numpy as np"
   ]
  },
  {
   "cell_type": "markdown",
   "metadata": {},
   "source": [
    "# Create a `Series` Object from a Python List"
   ]
  },
  {
   "cell_type": "code",
   "execution_count": 3,
   "metadata": {},
   "outputs": [
    {
     "data": {
      "text/plain": [
       "0     Chocolate\n",
       "1       Vanilla\n",
       "2    Strawberry\n",
       "3    Rum Raisin\n",
       "dtype: object"
      ]
     },
     "execution_count": 3,
     "metadata": {},
     "output_type": "execute_result"
    }
   ],
   "source": [
    "ice_cream = ['Chocolate', 'Vanilla', 'Strawberry', 'Rum Raisin']\n",
    "\n",
    "pd.Series(ice_cream)"
   ]
  },
  {
   "cell_type": "code",
   "execution_count": 4,
   "metadata": {},
   "outputs": [
    {
     "data": {
      "text/plain": [
       "0     4\n",
       "1     8\n",
       "2    15\n",
       "3    16\n",
       "4    23\n",
       "5    42\n",
       "dtype: int64"
      ]
     },
     "execution_count": 4,
     "metadata": {},
     "output_type": "execute_result"
    }
   ],
   "source": [
    "lottery = [4, 8, 15, 16, 23, 42]\n",
    "\n",
    "pd.Series(lottery)"
   ]
  },
  {
   "cell_type": "code",
   "execution_count": 5,
   "metadata": {},
   "outputs": [
    {
     "data": {
      "text/plain": [
       "0     True\n",
       "1    False\n",
       "2    False\n",
       "3    False\n",
       "4     True\n",
       "dtype: bool"
      ]
     },
     "execution_count": 5,
     "metadata": {},
     "output_type": "execute_result"
    }
   ],
   "source": [
    "registrations = [True, False, False, False, True]\n",
    "\n",
    "pd.Series(registrations)"
   ]
  },
  {
   "cell_type": "markdown",
   "metadata": {},
   "source": [
    "# Create a `Series` Object from a Dictionary"
   ]
  },
  {
   "cell_type": "code",
   "execution_count": 6,
   "metadata": {
    "scrolled": false
   },
   "outputs": [
    {
     "data": {
      "text/plain": [
       "Aardvark            An animal\n",
       "Banana      A delicious fruit\n",
       "Cyan                  A color\n",
       "dtype: object"
      ]
     },
     "execution_count": 6,
     "metadata": {},
     "output_type": "execute_result"
    }
   ],
   "source": [
    "webster = {'Aardvark': 'An animal',\n",
    "           'Banana': 'A delicious fruit',\n",
    "           'Cyan': 'A color'}\n",
    "\n",
    "pd.Series(webster)"
   ]
  },
  {
   "cell_type": "markdown",
   "metadata": {},
   "source": [
    "# Intro to Attributes"
   ]
  },
  {
   "cell_type": "code",
   "execution_count": 7,
   "metadata": {
    "scrolled": true
   },
   "outputs": [
    {
     "data": {
      "text/plain": [
       "0        Smart\n",
       "1     Handsome\n",
       "2     Charming\n",
       "3    Brilliant\n",
       "4       Humble\n",
       "dtype: object"
      ]
     },
     "execution_count": 7,
     "metadata": {},
     "output_type": "execute_result"
    }
   ],
   "source": [
    "about_me = ['Smart', 'Handsome', 'Charming', 'Brilliant', 'Humble']\n",
    "s = pd.Series(about_me)\n",
    "s"
   ]
  },
  {
   "cell_type": "code",
   "execution_count": 8,
   "metadata": {},
   "outputs": [
    {
     "data": {
      "text/plain": [
       "array(['Smart', 'Handsome', 'Charming', 'Brilliant', 'Humble'], dtype=object)"
      ]
     },
     "execution_count": 8,
     "metadata": {},
     "output_type": "execute_result"
    }
   ],
   "source": [
    "s.values"
   ]
  },
  {
   "cell_type": "code",
   "execution_count": 9,
   "metadata": {},
   "outputs": [
    {
     "data": {
      "text/plain": [
       "RangeIndex(start=0, stop=5, step=1)"
      ]
     },
     "execution_count": 9,
     "metadata": {},
     "output_type": "execute_result"
    }
   ],
   "source": [
    "s.index"
   ]
  },
  {
   "cell_type": "code",
   "execution_count": 10,
   "metadata": {},
   "outputs": [
    {
     "data": {
      "text/plain": [
       "dtype('O')"
      ]
     },
     "execution_count": 10,
     "metadata": {},
     "output_type": "execute_result"
    }
   ],
   "source": [
    "s.dtype"
   ]
  },
  {
   "cell_type": "markdown",
   "metadata": {},
   "source": [
    "# Intro to Methods"
   ]
  },
  {
   "cell_type": "code",
   "execution_count": 11,
   "metadata": {},
   "outputs": [
    {
     "data": {
      "text/plain": [
       "0    2.99\n",
       "1    4.45\n",
       "2    1.36\n",
       "dtype: float64"
      ]
     },
     "execution_count": 11,
     "metadata": {},
     "output_type": "execute_result"
    }
   ],
   "source": [
    "prices = [2.99, 4.45, 1.36]\n",
    "s = pd.Series(prices)\n",
    "s"
   ]
  },
  {
   "cell_type": "code",
   "execution_count": 12,
   "metadata": {},
   "outputs": [
    {
     "data": {
      "text/plain": [
       "8.8"
      ]
     },
     "execution_count": 12,
     "metadata": {},
     "output_type": "execute_result"
    }
   ],
   "source": [
    "s.sum()"
   ]
  },
  {
   "cell_type": "code",
   "execution_count": 13,
   "metadata": {},
   "outputs": [
    {
     "data": {
      "text/plain": [
       "18.095480000000006"
      ]
     },
     "execution_count": 13,
     "metadata": {},
     "output_type": "execute_result"
    }
   ],
   "source": [
    "s.product()"
   ]
  },
  {
   "cell_type": "code",
   "execution_count": 14,
   "metadata": {},
   "outputs": [
    {
     "data": {
      "text/plain": [
       "2.9333333333333336"
      ]
     },
     "execution_count": 14,
     "metadata": {},
     "output_type": "execute_result"
    }
   ],
   "source": [
    "s.mean()"
   ]
  },
  {
   "cell_type": "markdown",
   "metadata": {},
   "source": [
    "# Parameters and Arguments"
   ]
  },
  {
   "cell_type": "code",
   "execution_count": 15,
   "metadata": {
    "scrolled": true
   },
   "outputs": [
    {
     "data": {
      "text/plain": [
       "Monday           Apple\n",
       "Tuesday         Oragne\n",
       "Wednesday         Plum\n",
       "Thursday         Grape\n",
       "Friday       Blueberry\n",
       "dtype: object"
      ]
     },
     "execution_count": 15,
     "metadata": {},
     "output_type": "execute_result"
    }
   ],
   "source": [
    "fruits = ['Apple', 'Oragne', 'Plum', 'Grape', 'Blueberry']\n",
    "weekdays = ['Monday', 'Tuesday', 'Wednesday', 'Thursday', 'Friday']\n",
    "\n",
    "pd.Series(fruits, weekdays)"
   ]
  },
  {
   "cell_type": "code",
   "execution_count": 16,
   "metadata": {},
   "outputs": [
    {
     "data": {
      "text/plain": [
       "Monday            Apple\n",
       "Tuesday          Oragne\n",
       "Wednesday          Plum\n",
       "Thursday          Grape\n",
       "Friday        Blueberry\n",
       "Monday       Watermelon\n",
       "dtype: object"
      ]
     },
     "execution_count": 16,
     "metadata": {},
     "output_type": "execute_result"
    }
   ],
   "source": [
    "fruits = ['Apple', 'Oragne', 'Plum', 'Grape', 'Blueberry', 'Watermelon']\n",
    "weekdays = ['Monday', 'Tuesday', 'Wednesday', 'Thursday', 'Friday', 'Monday']\n",
    "\n",
    "pd.Series(fruits, weekdays)"
   ]
  },
  {
   "cell_type": "markdown",
   "metadata": {},
   "source": [
    "# Import `Series` with the `read_csv` Method"
   ]
  },
  {
   "cell_type": "code",
   "execution_count": 17,
   "metadata": {},
   "outputs": [
    {
     "data": {
      "text/plain": [
       "0       Bulbasaur\n",
       "1         Ivysaur\n",
       "2        Venusaur\n",
       "3      Charmander\n",
       "4      Charmeleon\n",
       "5       Charizard\n",
       "6        Squirtle\n",
       "7       Wartortle\n",
       "8       Blastoise\n",
       "9        Caterpie\n",
       "10        Metapod\n",
       "11     Butterfree\n",
       "12         Weedle\n",
       "13         Kakuna\n",
       "14       Beedrill\n",
       "15         Pidgey\n",
       "16      Pidgeotto\n",
       "17        Pidgeot\n",
       "18        Rattata\n",
       "19       Raticate\n",
       "20        Spearow\n",
       "21         Fearow\n",
       "22          Ekans\n",
       "23          Arbok\n",
       "24        Pikachu\n",
       "25         Raichu\n",
       "26      Sandshrew\n",
       "27      Sandslash\n",
       "28        Nidoran\n",
       "29       Nidorina\n",
       "          ...    \n",
       "691     Clauncher\n",
       "692     Clawitzer\n",
       "693    Helioptile\n",
       "694     Heliolisk\n",
       "695        Tyrunt\n",
       "696     Tyrantrum\n",
       "697        Amaura\n",
       "698       Aurorus\n",
       "699       Sylveon\n",
       "700      Hawlucha\n",
       "701       Dedenne\n",
       "702       Carbink\n",
       "703         Goomy\n",
       "704       Sliggoo\n",
       "705        Goodra\n",
       "706        Klefki\n",
       "707      Phantump\n",
       "708     Trevenant\n",
       "709     Pumpkaboo\n",
       "710     Gourgeist\n",
       "711      Bergmite\n",
       "712       Avalugg\n",
       "713        Noibat\n",
       "714       Noivern\n",
       "715       Xerneas\n",
       "716       Yveltal\n",
       "717       Zygarde\n",
       "718       Diancie\n",
       "719         Hoopa\n",
       "720     Volcanion\n",
       "Name: Pokemon, Length: 721, dtype: object"
      ]
     },
     "execution_count": 17,
     "metadata": {},
     "output_type": "execute_result"
    }
   ],
   "source": [
    "pokemon = pd.read_csv('datasets/pokemon.csv', usecols=['Pokemon'], squeeze=True)\n",
    "pokemon"
   ]
  },
  {
   "cell_type": "code",
   "execution_count": 18,
   "metadata": {},
   "outputs": [
    {
     "data": {
      "text/plain": [
       "0        50.12\n",
       "1        54.10\n",
       "2        54.65\n",
       "3        52.38\n",
       "4        52.95\n",
       "5        53.90\n",
       "6        53.02\n",
       "7        50.95\n",
       "8        51.13\n",
       "9        50.07\n",
       "10       50.70\n",
       "11       49.95\n",
       "12       50.74\n",
       "13       51.10\n",
       "14       51.10\n",
       "15       52.61\n",
       "16       53.70\n",
       "17       55.69\n",
       "18       55.94\n",
       "19       56.93\n",
       "20       58.69\n",
       "21       59.62\n",
       "22       58.86\n",
       "23       59.13\n",
       "24       60.35\n",
       "25       59.86\n",
       "26       59.07\n",
       "27       63.37\n",
       "28       65.47\n",
       "29       64.74\n",
       "         ...  \n",
       "2982    675.22\n",
       "2983    668.26\n",
       "2984    680.04\n",
       "2985    684.11\n",
       "2986    692.10\n",
       "2987    699.21\n",
       "2988    694.49\n",
       "2989    697.77\n",
       "2990    695.36\n",
       "2991    705.63\n",
       "2992    715.09\n",
       "2993    720.64\n",
       "2994    716.98\n",
       "2995    720.95\n",
       "2996    719.85\n",
       "2997    733.78\n",
       "2998    736.96\n",
       "2999    741.19\n",
       "3000    738.63\n",
       "3001    742.74\n",
       "3002    739.77\n",
       "3003    738.42\n",
       "3004    741.77\n",
       "3005    745.91\n",
       "3006    768.79\n",
       "3007    772.88\n",
       "3008    771.07\n",
       "3009    773.18\n",
       "3010    771.61\n",
       "3011    782.22\n",
       "Name: Stock Price, Length: 3012, dtype: float64"
      ]
     },
     "execution_count": 18,
     "metadata": {},
     "output_type": "execute_result"
    }
   ],
   "source": [
    "google = pd.read_csv('datasets/google_stock_price.csv', squeeze=True)\n",
    "google"
   ]
  },
  {
   "cell_type": "markdown",
   "metadata": {
    "collapsed": true
   },
   "source": [
    "# The `.head()` and `.tail()` Methods"
   ]
  },
  {
   "cell_type": "code",
   "execution_count": 19,
   "metadata": {},
   "outputs": [
    {
     "data": {
      "text/plain": [
       "0    Bulbasaur\n",
       "1      Ivysaur\n",
       "2     Venusaur\n",
       "Name: Pokemon, dtype: object"
      ]
     },
     "execution_count": 19,
     "metadata": {},
     "output_type": "execute_result"
    }
   ],
   "source": [
    "# creates a new Series with first n elements \n",
    "pokemon.head(3)"
   ]
  },
  {
   "cell_type": "code",
   "execution_count": 20,
   "metadata": {},
   "outputs": [
    {
     "data": {
      "text/plain": [
       "3006    768.79\n",
       "3007    772.88\n",
       "3008    771.07\n",
       "3009    773.18\n",
       "3010    771.61\n",
       "3011    782.22\n",
       "Name: Stock Price, dtype: float64"
      ]
     },
     "execution_count": 20,
     "metadata": {},
     "output_type": "execute_result"
    }
   ],
   "source": [
    "# creates a new Series with last n elements \n",
    "google.tail(6)"
   ]
  },
  {
   "cell_type": "markdown",
   "metadata": {},
   "source": [
    "# Python Build-In Functions"
   ]
  },
  {
   "cell_type": "code",
   "execution_count": 21,
   "metadata": {},
   "outputs": [
    {
     "data": {
      "text/plain": [
       "3012"
      ]
     },
     "execution_count": 21,
     "metadata": {},
     "output_type": "execute_result"
    }
   ],
   "source": [
    "len(pokemon)\n",
    "len(google)"
   ]
  },
  {
   "cell_type": "code",
   "execution_count": 22,
   "metadata": {},
   "outputs": [
    {
     "data": {
      "text/plain": [
       "pandas.core.series.Series"
      ]
     },
     "execution_count": 22,
     "metadata": {},
     "output_type": "execute_result"
    }
   ],
   "source": [
    "type(pokemon)"
   ]
  },
  {
   "cell_type": "code",
   "execution_count": 23,
   "metadata": {},
   "outputs": [
    {
     "data": {
      "text/plain": [
       "['T',\n",
       " '_AXIS_ALIASES',\n",
       " '_AXIS_IALIASES',\n",
       " '_AXIS_LEN',\n",
       " '_AXIS_NAMES',\n",
       " '_AXIS_NUMBERS',\n",
       " '_AXIS_ORDERS',\n",
       " '_AXIS_REVERSED',\n",
       " '_AXIS_SLICEMAP',\n",
       " '__abs__',\n",
       " '__add__',\n",
       " '__and__',\n",
       " '__array__',\n",
       " '__array_prepare__',\n",
       " '__array_priority__',\n",
       " '__array_wrap__',\n",
       " '__bool__',\n",
       " '__bytes__',\n",
       " '__class__',\n",
       " '__contains__',\n",
       " '__copy__',\n",
       " '__deepcopy__',\n",
       " '__delattr__',\n",
       " '__delitem__',\n",
       " '__dict__',\n",
       " '__dir__',\n",
       " '__div__',\n",
       " '__divmod__',\n",
       " '__doc__',\n",
       " '__eq__',\n",
       " '__finalize__',\n",
       " '__float__',\n",
       " '__floordiv__',\n",
       " '__format__',\n",
       " '__ge__',\n",
       " '__getattr__',\n",
       " '__getattribute__',\n",
       " '__getitem__',\n",
       " '__getstate__',\n",
       " '__gt__',\n",
       " '__hash__',\n",
       " '__iadd__',\n",
       " '__imul__',\n",
       " '__init__',\n",
       " '__init_subclass__',\n",
       " '__int__',\n",
       " '__invert__',\n",
       " '__ipow__',\n",
       " '__isub__',\n",
       " '__iter__',\n",
       " '__itruediv__',\n",
       " '__le__',\n",
       " '__len__',\n",
       " '__long__',\n",
       " '__lt__',\n",
       " '__mod__',\n",
       " '__module__',\n",
       " '__mul__',\n",
       " '__ne__',\n",
       " '__neg__',\n",
       " '__new__',\n",
       " '__nonzero__',\n",
       " '__or__',\n",
       " '__pow__',\n",
       " '__radd__',\n",
       " '__rand__',\n",
       " '__rdiv__',\n",
       " '__reduce__',\n",
       " '__reduce_ex__',\n",
       " '__repr__',\n",
       " '__rfloordiv__',\n",
       " '__rmod__',\n",
       " '__rmul__',\n",
       " '__ror__',\n",
       " '__round__',\n",
       " '__rpow__',\n",
       " '__rsub__',\n",
       " '__rtruediv__',\n",
       " '__rxor__',\n",
       " '__setattr__',\n",
       " '__setitem__',\n",
       " '__setstate__',\n",
       " '__sizeof__',\n",
       " '__str__',\n",
       " '__sub__',\n",
       " '__subclasshook__',\n",
       " '__truediv__',\n",
       " '__unicode__',\n",
       " '__weakref__',\n",
       " '__xor__',\n",
       " '_accessors',\n",
       " '_add_numeric_operations',\n",
       " '_add_series_only_operations',\n",
       " '_add_series_or_dataframe_operations',\n",
       " '_agg_by_level',\n",
       " '_agg_doc',\n",
       " '_aggregate',\n",
       " '_aggregate_multiple_funcs',\n",
       " '_align_frame',\n",
       " '_align_series',\n",
       " '_allow_index_ops',\n",
       " '_at',\n",
       " '_binop',\n",
       " '_box_item_values',\n",
       " '_builtin_table',\n",
       " '_can_hold_na',\n",
       " '_check_inplace_setting',\n",
       " '_check_is_chained_assignment_possible',\n",
       " '_check_percentile',\n",
       " '_check_setitem_copy',\n",
       " '_clear_item_cache',\n",
       " '_clip_with_scalar',\n",
       " '_consolidate',\n",
       " '_consolidate_inplace',\n",
       " '_construct_axes_dict',\n",
       " '_construct_axes_dict_for_slice',\n",
       " '_construct_axes_dict_from',\n",
       " '_construct_axes_from_arguments',\n",
       " '_constructor',\n",
       " '_constructor_expanddim',\n",
       " '_constructor_sliced',\n",
       " '_convert',\n",
       " '_create_indexer',\n",
       " '_cython_table',\n",
       " '_dir_additions',\n",
       " '_dir_deletions',\n",
       " '_expand_axes',\n",
       " '_from_axes',\n",
       " '_get_axis',\n",
       " '_get_axis_name',\n",
       " '_get_axis_number',\n",
       " '_get_axis_resolvers',\n",
       " '_get_block_manager_axis',\n",
       " '_get_bool_data',\n",
       " '_get_cacher',\n",
       " '_get_index_resolvers',\n",
       " '_get_item_cache',\n",
       " '_get_numeric_data',\n",
       " '_get_values',\n",
       " '_get_values_tuple',\n",
       " '_get_with',\n",
       " '_gotitem',\n",
       " '_iat',\n",
       " '_iget_item_cache',\n",
       " '_iloc',\n",
       " '_index',\n",
       " '_indexed_same',\n",
       " '_info_axis',\n",
       " '_info_axis_name',\n",
       " '_info_axis_number',\n",
       " '_init_mgr',\n",
       " '_internal_names',\n",
       " '_internal_names_set',\n",
       " '_is_builtin_func',\n",
       " '_is_cached',\n",
       " '_is_cython_func',\n",
       " '_is_datelike_mixed_type',\n",
       " '_is_mixed_type',\n",
       " '_is_numeric_mixed_type',\n",
       " '_is_view',\n",
       " '_ix',\n",
       " '_ixs',\n",
       " '_loc',\n",
       " '_make_cat_accessor',\n",
       " '_make_dt_accessor',\n",
       " '_make_str_accessor',\n",
       " '_maybe_cache_changed',\n",
       " '_maybe_update_cacher',\n",
       " '_metadata',\n",
       " '_needs_reindex_multi',\n",
       " '_obj_with_exclusions',\n",
       " '_protect_consolidate',\n",
       " '_reduce',\n",
       " '_reindex_axes',\n",
       " '_reindex_axis',\n",
       " '_reindex_indexer',\n",
       " '_reindex_multi',\n",
       " '_reindex_with_indexers',\n",
       " '_repr_data_resource_',\n",
       " '_repr_latex_',\n",
       " '_reset_cache',\n",
       " '_reset_cacher',\n",
       " '_selected_obj',\n",
       " '_selection',\n",
       " '_selection_list',\n",
       " '_selection_name',\n",
       " '_set_as_cached',\n",
       " '_set_axis',\n",
       " '_set_axis_name',\n",
       " '_set_is_copy',\n",
       " '_set_item',\n",
       " '_set_labels',\n",
       " '_set_name',\n",
       " '_set_subtyp',\n",
       " '_set_values',\n",
       " '_set_with',\n",
       " '_set_with_engine',\n",
       " '_setup_axes',\n",
       " '_shallow_copy',\n",
       " '_slice',\n",
       " '_stat_axis',\n",
       " '_stat_axis_name',\n",
       " '_stat_axis_number',\n",
       " '_try_aggregate_string_function',\n",
       " '_typ',\n",
       " '_unpickle_series_compat',\n",
       " '_update_inplace',\n",
       " '_validate_dtype',\n",
       " '_values',\n",
       " '_where',\n",
       " '_xs',\n",
       " 'abs',\n",
       " 'add',\n",
       " 'add_prefix',\n",
       " 'add_suffix',\n",
       " 'agg',\n",
       " 'aggregate',\n",
       " 'align',\n",
       " 'all',\n",
       " 'any',\n",
       " 'append',\n",
       " 'apply',\n",
       " 'argmax',\n",
       " 'argmin',\n",
       " 'argsort',\n",
       " 'as_blocks',\n",
       " 'as_matrix',\n",
       " 'asfreq',\n",
       " 'asobject',\n",
       " 'asof',\n",
       " 'astype',\n",
       " 'at',\n",
       " 'at_time',\n",
       " 'autocorr',\n",
       " 'axes',\n",
       " 'base',\n",
       " 'between',\n",
       " 'between_time',\n",
       " 'bfill',\n",
       " 'blocks',\n",
       " 'bool',\n",
       " 'clip',\n",
       " 'clip_lower',\n",
       " 'clip_upper',\n",
       " 'combine',\n",
       " 'combine_first',\n",
       " 'compound',\n",
       " 'compress',\n",
       " 'consolidate',\n",
       " 'convert_objects',\n",
       " 'copy',\n",
       " 'corr',\n",
       " 'count',\n",
       " 'cov',\n",
       " 'cummax',\n",
       " 'cummin',\n",
       " 'cumprod',\n",
       " 'cumsum',\n",
       " 'data',\n",
       " 'describe',\n",
       " 'diff',\n",
       " 'div',\n",
       " 'divide',\n",
       " 'dot',\n",
       " 'drop',\n",
       " 'drop_duplicates',\n",
       " 'dropna',\n",
       " 'dtype',\n",
       " 'dtypes',\n",
       " 'duplicated',\n",
       " 'empty',\n",
       " 'eq',\n",
       " 'equals',\n",
       " 'ewm',\n",
       " 'expanding',\n",
       " 'factorize',\n",
       " 'ffill',\n",
       " 'fillna',\n",
       " 'filter',\n",
       " 'first',\n",
       " 'first_valid_index',\n",
       " 'flags',\n",
       " 'floordiv',\n",
       " 'from_array',\n",
       " 'from_csv',\n",
       " 'ftype',\n",
       " 'ftypes',\n",
       " 'ge',\n",
       " 'get',\n",
       " 'get_dtype_counts',\n",
       " 'get_ftype_counts',\n",
       " 'get_value',\n",
       " 'get_values',\n",
       " 'groupby',\n",
       " 'gt',\n",
       " 'hasnans',\n",
       " 'head',\n",
       " 'hist',\n",
       " 'iat',\n",
       " 'idxmax',\n",
       " 'idxmin',\n",
       " 'iloc',\n",
       " 'imag',\n",
       " 'index',\n",
       " 'interpolate',\n",
       " 'is_copy',\n",
       " 'is_monotonic',\n",
       " 'is_monotonic_decreasing',\n",
       " 'is_monotonic_increasing',\n",
       " 'is_unique',\n",
       " 'isin',\n",
       " 'isnull',\n",
       " 'item',\n",
       " 'items',\n",
       " 'itemsize',\n",
       " 'iteritems',\n",
       " 'ix',\n",
       " 'keys',\n",
       " 'kurt',\n",
       " 'kurtosis',\n",
       " 'last',\n",
       " 'last_valid_index',\n",
       " 'le',\n",
       " 'loc',\n",
       " 'lt',\n",
       " 'mad',\n",
       " 'map',\n",
       " 'mask',\n",
       " 'max',\n",
       " 'mean',\n",
       " 'median',\n",
       " 'memory_usage',\n",
       " 'min',\n",
       " 'mod',\n",
       " 'mode',\n",
       " 'mul',\n",
       " 'multiply',\n",
       " 'name',\n",
       " 'nbytes',\n",
       " 'ndim',\n",
       " 'ne',\n",
       " 'nlargest',\n",
       " 'nonzero',\n",
       " 'notnull',\n",
       " 'nsmallest',\n",
       " 'nunique',\n",
       " 'pct_change',\n",
       " 'pipe',\n",
       " 'plot',\n",
       " 'pop',\n",
       " 'pow',\n",
       " 'prod',\n",
       " 'product',\n",
       " 'ptp',\n",
       " 'put',\n",
       " 'quantile',\n",
       " 'radd',\n",
       " 'rank',\n",
       " 'ravel',\n",
       " 'rdiv',\n",
       " 'real',\n",
       " 'reindex',\n",
       " 'reindex_axis',\n",
       " 'reindex_like',\n",
       " 'rename',\n",
       " 'rename_axis',\n",
       " 'reorder_levels',\n",
       " 'repeat',\n",
       " 'replace',\n",
       " 'resample',\n",
       " 'reset_index',\n",
       " 'reshape',\n",
       " 'rfloordiv',\n",
       " 'rmod',\n",
       " 'rmul',\n",
       " 'rolling',\n",
       " 'round',\n",
       " 'rpow',\n",
       " 'rsub',\n",
       " 'rtruediv',\n",
       " 'sample',\n",
       " 'searchsorted',\n",
       " 'select',\n",
       " 'sem',\n",
       " 'set_axis',\n",
       " 'set_value',\n",
       " 'shape',\n",
       " 'shift',\n",
       " 'size',\n",
       " 'skew',\n",
       " 'slice_shift',\n",
       " 'sort_index',\n",
       " 'sort_values',\n",
       " 'sortlevel',\n",
       " 'squeeze',\n",
       " 'std',\n",
       " 'str',\n",
       " 'strides',\n",
       " 'sub',\n",
       " 'subtract',\n",
       " 'sum',\n",
       " 'swapaxes',\n",
       " 'swaplevel',\n",
       " 'tail',\n",
       " 'take',\n",
       " 'to_clipboard',\n",
       " 'to_csv',\n",
       " 'to_dense',\n",
       " 'to_dict',\n",
       " 'to_excel',\n",
       " 'to_frame',\n",
       " 'to_hdf',\n",
       " 'to_json',\n",
       " 'to_latex',\n",
       " 'to_msgpack',\n",
       " 'to_period',\n",
       " 'to_pickle',\n",
       " 'to_sparse',\n",
       " 'to_sql',\n",
       " 'to_string',\n",
       " 'to_timestamp',\n",
       " 'to_xarray',\n",
       " 'tolist',\n",
       " 'transform',\n",
       " 'transpose',\n",
       " 'truediv',\n",
       " 'truncate',\n",
       " 'tshift',\n",
       " 'tz_convert',\n",
       " 'tz_localize',\n",
       " 'unique',\n",
       " 'unstack',\n",
       " 'update',\n",
       " 'valid',\n",
       " 'value_counts',\n",
       " 'values',\n",
       " 'var',\n",
       " 'view',\n",
       " 'where',\n",
       " 'xs']"
      ]
     },
     "execution_count": 23,
     "metadata": {},
     "output_type": "execute_result"
    }
   ],
   "source": [
    "dir(pokemon)"
   ]
  },
  {
   "cell_type": "code",
   "execution_count": 24,
   "metadata": {},
   "outputs": [
    {
     "data": {
      "text/plain": [
       "[49.950000000000003,\n",
       " 50.07,\n",
       " 50.119999999999997,\n",
       " 50.700000000000003,\n",
       " 50.740000000000002,\n",
       " 50.950000000000003,\n",
       " 51.100000000000001,\n",
       " 51.100000000000001,\n",
       " 51.130000000000003,\n",
       " 52.380000000000003,\n",
       " 52.609999999999999,\n",
       " 52.950000000000003,\n",
       " 53.020000000000003,\n",
       " 53.700000000000003,\n",
       " 53.899999999999999,\n",
       " 54.100000000000001,\n",
       " 54.649999999999999,\n",
       " 55.689999999999998,\n",
       " 55.939999999999998,\n",
       " 56.93,\n",
       " 58.689999999999998,\n",
       " 58.859999999999999,\n",
       " 59.07,\n",
       " 59.130000000000003,\n",
       " 59.619999999999997,\n",
       " 59.859999999999999,\n",
       " 60.350000000000001,\n",
       " 63.369999999999997,\n",
       " 64.739999999999995,\n",
       " 65.469999999999999,\n",
       " 66.219999999999999,\n",
       " 67.459999999999994,\n",
       " 67.560000000000002,\n",
       " 68.469999999999999,\n",
       " 68.629999999999995,\n",
       " 68.799999999999997,\n",
       " 69.120000000000005,\n",
       " 69.359999999999999,\n",
       " 70.170000000000002,\n",
       " 70.379999999999995,\n",
       " 70.930000000000007,\n",
       " 71.980000000000004,\n",
       " 73.900000000000006,\n",
       " 74.510000000000005,\n",
       " 74.620000000000005,\n",
       " 82.469999999999999,\n",
       " 83.680000000000007,\n",
       " 83.689999999999998,\n",
       " 83.849999999999994,\n",
       " 84.269999999999996,\n",
       " 84.590000000000003,\n",
       " 84.620000000000005,\n",
       " 84.909999999999997,\n",
       " 85.140000000000001,\n",
       " 85.629999999999995,\n",
       " 85.739999999999995,\n",
       " 86.129999999999995,\n",
       " 86.159999999999997,\n",
       " 86.189999999999998,\n",
       " 86.189999999999998,\n",
       " 86.629999999999995,\n",
       " 87.290000000000006,\n",
       " 87.409999999999997,\n",
       " 87.709999999999994,\n",
       " 88.060000000000002,\n",
       " 88.150000000000006,\n",
       " 88.469999999999999,\n",
       " 88.810000000000002,\n",
       " 89.209999999999994,\n",
       " 89.219999999999999,\n",
       " 89.260000000000005,\n",
       " 89.400000000000006,\n",
       " 89.540000000000006,\n",
       " 89.560000000000002,\n",
       " 89.609999999999999,\n",
       " 89.609999999999999,\n",
       " 89.700000000000003,\n",
       " 89.799999999999997,\n",
       " 89.890000000000001,\n",
       " 89.900000000000006,\n",
       " 89.930000000000007,\n",
       " 89.930000000000007,\n",
       " 89.950000000000003,\n",
       " 90.109999999999999,\n",
       " 90.129999999999995,\n",
       " 90.159999999999997,\n",
       " 90.269999999999996,\n",
       " 90.349999999999994,\n",
       " 90.430000000000007,\n",
       " 90.579999999999998,\n",
       " 90.620000000000005,\n",
       " 90.810000000000002,\n",
       " 90.900000000000006,\n",
       " 90.909999999999997,\n",
       " 91.420000000000002,\n",
       " 91.780000000000001,\n",
       " 92.260000000000005,\n",
       " 92.340000000000003,\n",
       " 92.409999999999997,\n",
       " 92.420000000000002,\n",
       " 92.5,\n",
       " 92.510000000000005,\n",
       " 92.549999999999997,\n",
       " 92.840000000000003,\n",
       " 92.859999999999999,\n",
       " 92.890000000000001,\n",
       " 92.939999999999998,\n",
       " 93.060000000000002,\n",
       " 93.390000000000001,\n",
       " 93.409999999999997,\n",
       " 93.609999999999999,\n",
       " 93.609999999999999,\n",
       " 93.859999999999999,\n",
       " 93.900000000000006,\n",
       " 93.900000000000006,\n",
       " 93.950000000000003,\n",
       " 94.049999999999997,\n",
       " 94.180000000000007,\n",
       " 94.189999999999998,\n",
       " 94.310000000000002,\n",
       " 94.349999999999994,\n",
       " 94.519999999999996,\n",
       " 94.530000000000001,\n",
       " 95.069999999999993,\n",
       " 95.219999999999999,\n",
       " 95.590000000000003,\n",
       " 95.599999999999994,\n",
       " 95.629999999999995,\n",
       " 95.689999999999998,\n",
       " 95.739999999999995,\n",
       " 95.849999999999994,\n",
       " 95.859999999999999,\n",
       " 95.930000000000007,\n",
       " 96.280000000000001,\n",
       " 96.299999999999997,\n",
       " 96.349999999999994,\n",
       " 96.370000000000005,\n",
       " 96.400000000000006,\n",
       " 96.519999999999996,\n",
       " 96.549999999999997,\n",
       " 96.659999999999997,\n",
       " 96.670000000000002,\n",
       " 96.780000000000001,\n",
       " 96.829999999999998,\n",
       " 96.859999999999999,\n",
       " 96.879999999999995,\n",
       " 96.879999999999995,\n",
       " 97.150000000000006,\n",
       " 97.340000000000003,\n",
       " 97.430000000000007,\n",
       " 97.519999999999996,\n",
       " 97.569999999999993,\n",
       " 97.590000000000003,\n",
       " 97.709999999999994,\n",
       " 97.920000000000002,\n",
       " 97.920000000000002,\n",
       " 98.549999999999997,\n",
       " 98.700000000000003,\n",
       " 98.849999999999994,\n",
       " 98.879999999999995,\n",
       " 98.950000000000003,\n",
       " 99.109999999999999,\n",
       " 99.219999999999999,\n",
       " 99.890000000000001,\n",
       " 101.25,\n",
       " 101.84999999999999,\n",
       " 102.01000000000001,\n",
       " 102.08,\n",
       " 102.88,\n",
       " 105.31999999999999,\n",
       " 107.8,\n",
       " 109.27,\n",
       " 109.62,\n",
       " 109.78,\n",
       " 109.89,\n",
       " 111.03,\n",
       " 111.65000000000001,\n",
       " 112.90000000000001,\n",
       " 112.98,\n",
       " 113.38,\n",
       " 113.79000000000001,\n",
       " 113.90000000000001,\n",
       " 114.14,\n",
       " 114.25,\n",
       " 114.51000000000001,\n",
       " 115.41,\n",
       " 115.53,\n",
       " 116.45,\n",
       " 119.45999999999999,\n",
       " 119.47,\n",
       " 120.68000000000001,\n",
       " 127.59999999999999,\n",
       " 127.87,\n",
       " 128.59,\n",
       " 129.47,\n",
       " 129.65000000000001,\n",
       " 130.27000000000001,\n",
       " 131.08000000000001,\n",
       " 132.86000000000001,\n",
       " 132.87,\n",
       " 136.87,\n",
       " 137.03,\n",
       " 137.25999999999999,\n",
       " 137.41999999999999,\n",
       " 138.5,\n",
       " 138.58000000000001,\n",
       " 139.03999999999999,\n",
       " 139.58000000000001,\n",
       " 139.63999999999999,\n",
       " 139.65000000000001,\n",
       " 139.86000000000001,\n",
       " 139.86000000000001,\n",
       " 139.94999999999999,\n",
       " 139.99000000000001,\n",
       " 140.0,\n",
       " 140.88,\n",
       " 141.11000000000001,\n",
       " 141.13999999999999,\n",
       " 141.15000000000001,\n",
       " 141.22999999999999,\n",
       " 141.22999999999999,\n",
       " 141.65000000000001,\n",
       " 141.84999999999999,\n",
       " 141.86000000000001,\n",
       " 141.88,\n",
       " 142.41,\n",
       " 142.68000000000001,\n",
       " 142.69999999999999,\n",
       " 142.86000000000001,\n",
       " 142.97999999999999,\n",
       " 143.00999999999999,\n",
       " 143.21000000000001,\n",
       " 143.41,\n",
       " 143.49000000000001,\n",
       " 143.74000000000001,\n",
       " 143.78,\n",
       " 143.81,\n",
       " 143.86000000000001,\n",
       " 144.08000000000001,\n",
       " 144.08000000000001,\n",
       " 144.50999999999999,\n",
       " 144.71000000000001,\n",
       " 144.72,\n",
       " 145.30000000000001,\n",
       " 145.31999999999999,\n",
       " 145.34999999999999,\n",
       " 145.47999999999999,\n",
       " 145.47999999999999,\n",
       " 145.62,\n",
       " 145.63999999999999,\n",
       " 145.66,\n",
       " 145.75,\n",
       " 145.90000000000001,\n",
       " 146.03,\n",
       " 146.21000000000001,\n",
       " 146.33000000000001,\n",
       " 146.41,\n",
       " 146.53,\n",
       " 146.59999999999999,\n",
       " 146.93000000000001,\n",
       " 147.28999999999999,\n",
       " 147.55000000000001,\n",
       " 147.62,\n",
       " 147.71000000000001,\n",
       " 147.78,\n",
       " 147.90000000000001,\n",
       " 147.91999999999999,\n",
       " 147.97,\n",
       " 148.31999999999999,\n",
       " 148.41,\n",
       " 148.47999999999999,\n",
       " 148.5,\n",
       " 148.56,\n",
       " 148.56,\n",
       " 148.56999999999999,\n",
       " 148.72,\n",
       " 148.86000000000001,\n",
       " 149.28,\n",
       " 149.34999999999999,\n",
       " 149.40000000000001,\n",
       " 149.44999999999999,\n",
       " 149.62,\n",
       " 149.69,\n",
       " 149.91,\n",
       " 149.94999999999999,\n",
       " 149.96000000000001,\n",
       " 150.03,\n",
       " 150.28999999999999,\n",
       " 150.33000000000001,\n",
       " 150.33000000000001,\n",
       " 150.44,\n",
       " 150.84999999999999,\n",
       " 150.90000000000001,\n",
       " 151.05000000000001,\n",
       " 151.16,\n",
       " 151.31999999999999,\n",
       " 151.34999999999999,\n",
       " 151.38999999999999,\n",
       " 151.40000000000001,\n",
       " 151.44999999999999,\n",
       " 151.49000000000001,\n",
       " 151.74000000000001,\n",
       " 151.90000000000001,\n",
       " 152.34999999999999,\n",
       " 152.66999999999999,\n",
       " 152.83000000000001,\n",
       " 152.84999999999999,\n",
       " 152.90000000000001,\n",
       " 153.09999999999999,\n",
       " 153.66999999999999,\n",
       " 153.80000000000001,\n",
       " 153.93000000000001,\n",
       " 154.13,\n",
       " 154.19999999999999,\n",
       " 154.25999999999999,\n",
       " 154.66,\n",
       " 154.72,\n",
       " 154.80000000000001,\n",
       " 154.84999999999999,\n",
       " 154.93000000000001,\n",
       " 154.97999999999999,\n",
       " 155.16999999999999,\n",
       " 155.18000000000001,\n",
       " 155.19999999999999,\n",
       " 155.34,\n",
       " 155.53,\n",
       " 155.56999999999999,\n",
       " 155.68000000000001,\n",
       " 155.78999999999999,\n",
       " 155.84,\n",
       " 155.88,\n",
       " 156.19,\n",
       " 156.22,\n",
       " 156.34,\n",
       " 156.81,\n",
       " 156.81,\n",
       " 156.97999999999999,\n",
       " 157.0,\n",
       " 157.38,\n",
       " 157.46000000000001,\n",
       " 157.52000000000001,\n",
       " 157.72,\n",
       " 158.06999999999999,\n",
       " 158.80000000000001,\n",
       " 159.18000000000001,\n",
       " 159.22999999999999,\n",
       " 159.30000000000001,\n",
       " 159.69,\n",
       " 160.5,\n",
       " 160.84,\n",
       " 161.59999999999999,\n",
       " 161.77000000000001,\n",
       " 162.05000000000001,\n",
       " 162.19,\n",
       " 162.43000000000001,\n",
       " 162.47999999999999,\n",
       " 162.58000000000001,\n",
       " 163.41999999999999,\n",
       " 163.86000000000001,\n",
       " 164.33000000000001,\n",
       " 164.58000000000001,\n",
       " 164.81,\n",
       " 164.86000000000001,\n",
       " 164.91,\n",
       " 165.40000000000001,\n",
       " 165.44,\n",
       " 165.56999999999999,\n",
       " 165.83000000000001,\n",
       " 166.38,\n",
       " 166.86000000000001,\n",
       " 167.5,\n",
       " 168.36000000000001,\n",
       " 168.41999999999999,\n",
       " 168.58000000000001,\n",
       " 168.83000000000001,\n",
       " 168.88999999999999,\n",
       " 169.09999999999999,\n",
       " 169.22,\n",
       " 169.41999999999999,\n",
       " 169.47999999999999,\n",
       " 169.72999999999999,\n",
       " 169.78,\n",
       " 169.78999999999999,\n",
       " 169.94,\n",
       " 170.05000000000001,\n",
       " 170.11000000000001,\n",
       " 170.65000000000001,\n",
       " 170.77000000000001,\n",
       " 170.94999999999999,\n",
       " 171.02000000000001,\n",
       " 171.15000000000001,\n",
       " 171.16,\n",
       " 171.16999999999999,\n",
       " 171.33000000000001,\n",
       " 171.33000000000001,\n",
       " 171.49000000000001,\n",
       " 171.49000000000001,\n",
       " 171.86000000000001,\n",
       " 172.08000000000001,\n",
       " 172.55000000000001,\n",
       " 172.68000000000001,\n",
       " 172.83000000000001,\n",
       " 173.05000000000001,\n",
       " 173.06999999999999,\n",
       " 173.28,\n",
       " 173.41,\n",
       " 173.68000000000001,\n",
       " 173.86000000000001,\n",
       " 173.91999999999999,\n",
       " 174.13,\n",
       " 174.15000000000001,\n",
       " 174.16,\n",
       " 175.40000000000001,\n",
       " 175.97999999999999,\n",
       " 176.33000000000001,\n",
       " 176.34999999999999,\n",
       " 176.38,\n",
       " 176.47,\n",
       " 176.68000000000001,\n",
       " 176.75999999999999,\n",
       " 176.87,\n",
       " 177.53999999999999,\n",
       " 177.66,\n",
       " 178.66,\n",
       " 178.81999999999999,\n",
       " 178.84,\n",
       " 178.91,\n",
       " 179.08000000000001,\n",
       " 179.15000000000001,\n",
       " 179.21000000000001,\n",
       " 179.5,\n",
       " 179.66999999999999,\n",
       " 180.81999999999999,\n",
       " 181.06999999999999,\n",
       " 181.12,\n",
       " 181.13,\n",
       " 181.16999999999999,\n",
       " 181.19,\n",
       " 181.34,\n",
       " 182.03999999999999,\n",
       " 182.22,\n",
       " 182.56,\n",
       " 182.72,\n",
       " 183.05000000000001,\n",
       " 183.11000000000001,\n",
       " 183.28999999999999,\n",
       " 183.43000000000001,\n",
       " 183.78,\n",
       " 183.87,\n",
       " 183.94,\n",
       " 184.06999999999999,\n",
       " 184.19,\n",
       " 184.19,\n",
       " 184.27000000000001,\n",
       " 184.36000000000001,\n",
       " 184.53,\n",
       " 184.66,\n",
       " 184.71000000000001,\n",
       " 184.81999999999999,\n",
       " 185.28999999999999,\n",
       " 185.31,\n",
       " 185.41999999999999,\n",
       " 185.44999999999999,\n",
       " 185.46000000000001,\n",
       " 185.72,\n",
       " 185.78,\n",
       " 185.88,\n",
       " 186.06,\n",
       " 186.08000000000001,\n",
       " 186.44,\n",
       " 186.53,\n",
       " 186.68000000000001,\n",
       " 186.74000000000001,\n",
       " 186.88,\n",
       " 186.91,\n",
       " 187.03,\n",
       " 187.06,\n",
       " 187.50999999999999,\n",
       " 187.56999999999999,\n",
       " 187.59999999999999,\n",
       " 187.91,\n",
       " 188.03999999999999,\n",
       " 188.28,\n",
       " 188.41,\n",
       " 188.46000000000001,\n",
       " 188.50999999999999,\n",
       " 188.74000000000001,\n",
       " 188.78999999999999,\n",
       " 188.84999999999999,\n",
       " 188.87,\n",
       " 188.90000000000001,\n",
       " 188.96000000000001,\n",
       " 189.06,\n",
       " 189.08000000000001,\n",
       " 189.11000000000001,\n",
       " 189.19999999999999,\n",
       " 189.28999999999999,\n",
       " 189.38999999999999,\n",
       " 189.46000000000001,\n",
       " 189.47,\n",
       " 189.5,\n",
       " 189.53,\n",
       " 189.56,\n",
       " 189.65000000000001,\n",
       " 189.88,\n",
       " 190.18000000000001,\n",
       " 190.28,\n",
       " 190.28999999999999,\n",
       " 190.31,\n",
       " 190.31,\n",
       " 190.31999999999999,\n",
       " 190.43000000000001,\n",
       " 190.47999999999999,\n",
       " 190.53999999999999,\n",
       " 190.58000000000001,\n",
       " 190.59,\n",
       " 191.00999999999999,\n",
       " 191.12,\n",
       " 191.30000000000001,\n",
       " 191.49000000000001,\n",
       " 191.66,\n",
       " 191.74000000000001,\n",
       " 191.84999999999999,\n",
       " 191.99000000000001,\n",
       " 192.0,\n",
       " 192.15000000000001,\n",
       " 192.36000000000001,\n",
       " 192.56,\n",
       " 192.71000000000001,\n",
       " 192.78,\n",
       " 192.78,\n",
       " 193.06,\n",
       " 193.06999999999999,\n",
       " 193.09,\n",
       " 193.11000000000001,\n",
       " 193.25999999999999,\n",
       " 193.31,\n",
       " 193.37,\n",
       " 193.38999999999999,\n",
       " 193.56,\n",
       " 193.66999999999999,\n",
       " 193.87,\n",
       " 193.88,\n",
       " 194.03,\n",
       " 194.18000000000001,\n",
       " 194.49000000000001,\n",
       " 194.55000000000001,\n",
       " 194.58000000000001,\n",
       " 194.66,\n",
       " 194.75999999999999,\n",
       " 194.80000000000001,\n",
       " 194.80000000000001,\n",
       " 194.80000000000001,\n",
       " 194.86000000000001,\n",
       " 194.99000000000001,\n",
       " 195.0,\n",
       " 195.02000000000001,\n",
       " 195.05000000000001,\n",
       " 195.15000000000001,\n",
       " 195.25,\n",
       " 195.30000000000001,\n",
       " 195.34999999999999,\n",
       " 195.53999999999999,\n",
       " 195.75,\n",
       " 195.91999999999999,\n",
       " 196.19999999999999,\n",
       " 196.44999999999999,\n",
       " 196.55000000000001,\n",
       " 196.65000000000001,\n",
       " 196.88999999999999,\n",
       " 196.94999999999999,\n",
       " 197.18000000000001,\n",
       " 197.19,\n",
       " 197.19999999999999,\n",
       " 197.28999999999999,\n",
       " 197.31999999999999,\n",
       " 197.78999999999999,\n",
       " 197.81999999999999,\n",
       " 198.05000000000001,\n",
       " 198.11000000000001,\n",
       " 198.12,\n",
       " 198.22,\n",
       " 198.28999999999999,\n",
       " 198.30000000000001,\n",
       " 198.38999999999999,\n",
       " 198.88,\n",
       " 199.24000000000001,\n",
       " 199.25,\n",
       " 199.30000000000001,\n",
       " 199.31,\n",
       " 199.53,\n",
       " 199.78,\n",
       " 199.90000000000001,\n",
       " 200.06,\n",
       " 200.52000000000001,\n",
       " 200.69,\n",
       " 200.75,\n",
       " 200.78999999999999,\n",
       " 200.86000000000001,\n",
       " 200.88,\n",
       " 200.96000000000001,\n",
       " 201.03999999999999,\n",
       " 201.25999999999999,\n",
       " 201.28999999999999,\n",
       " 201.28999999999999,\n",
       " 201.31999999999999,\n",
       " 201.52000000000001,\n",
       " 201.53,\n",
       " 201.55000000000001,\n",
       " 201.56999999999999,\n",
       " 201.59,\n",
       " 201.69,\n",
       " 201.69999999999999,\n",
       " 201.78999999999999,\n",
       " 201.78999999999999,\n",
       " 201.81999999999999,\n",
       " 201.91,\n",
       " 201.91,\n",
       " 201.91999999999999,\n",
       " 201.97,\n",
       " 201.97999999999999,\n",
       " 202.06999999999999,\n",
       " 202.22999999999999,\n",
       " 202.25,\n",
       " 202.58000000000001,\n",
       " 202.63999999999999,\n",
       " 202.72,\n",
       " 202.84999999999999,\n",
       " 202.88,\n",
       " 203.08000000000001,\n",
       " 203.21000000000001,\n",
       " 203.22,\n",
       " 203.22999999999999,\n",
       " 203.46000000000001,\n",
       " 203.47,\n",
       " 203.74000000000001,\n",
       " 203.78999999999999,\n",
       " 203.78999999999999,\n",
       " 204.03999999999999,\n",
       " 204.19999999999999,\n",
       " 204.21000000000001,\n",
       " 204.27000000000001,\n",
       " 204.40000000000001,\n",
       " 204.44,\n",
       " 204.47999999999999,\n",
       " 204.59999999999999,\n",
       " 204.63,\n",
       " 204.74000000000001,\n",
       " 204.99000000000001,\n",
       " 204.99000000000001,\n",
       " 205.03999999999999,\n",
       " 205.12,\n",
       " 205.38,\n",
       " 205.65000000000001,\n",
       " 205.69999999999999,\n",
       " 206.09999999999999,\n",
       " 206.59999999999999,\n",
       " 206.81999999999999,\n",
       " 206.84,\n",
       " 206.87,\n",
       " 206.99000000000001,\n",
       " 207.03999999999999,\n",
       " 207.13999999999999,\n",
       " 207.22,\n",
       " 207.28999999999999,\n",
       " 207.37,\n",
       " 207.63999999999999,\n",
       " 207.68000000000001,\n",
       " 207.78999999999999,\n",
       " 207.97999999999999,\n",
       " 208.03,\n",
       " 208.18000000000001,\n",
       " 208.41,\n",
       " 208.41999999999999,\n",
       " 208.53999999999999,\n",
       " 208.63999999999999,\n",
       " 208.69999999999999,\n",
       " 208.75999999999999,\n",
       " 208.88999999999999,\n",
       " 209.12,\n",
       " 209.27000000000001,\n",
       " 209.28999999999999,\n",
       " 209.44,\n",
       " 209.46000000000001,\n",
       " 209.72999999999999,\n",
       " 209.75999999999999,\n",
       " 209.80000000000001,\n",
       " 209.83000000000001,\n",
       " 209.86000000000001,\n",
       " 210.00999999999999,\n",
       " 210.03999999999999,\n",
       " 210.11000000000001,\n",
       " 210.52000000000001,\n",
       " 210.58000000000001,\n",
       " 210.66,\n",
       " 211.05000000000001,\n",
       " 211.22,\n",
       " 211.38,\n",
       " 211.38999999999999,\n",
       " 211.53,\n",
       " 211.86000000000001,\n",
       " 211.94,\n",
       " 212.06999999999999,\n",
       " 212.09,\n",
       " 212.11000000000001,\n",
       " 212.13,\n",
       " 212.21000000000001,\n",
       " 212.44999999999999,\n",
       " 212.77000000000001,\n",
       " 212.81999999999999,\n",
       " 212.94999999999999,\n",
       " 213.03999999999999,\n",
       " 213.06999999999999,\n",
       " 213.11000000000001,\n",
       " 213.13,\n",
       " 213.19999999999999,\n",
       " 213.37,\n",
       " 213.44,\n",
       " 213.50999999999999,\n",
       " 213.53999999999999,\n",
       " 213.63,\n",
       " 213.74000000000001,\n",
       " 213.99000000000001,\n",
       " 214.09999999999999,\n",
       " 214.28999999999999,\n",
       " 214.28999999999999,\n",
       " 214.41999999999999,\n",
       " 214.66,\n",
       " 214.84999999999999,\n",
       " 214.86000000000001,\n",
       " 214.87,\n",
       " 214.91,\n",
       " 215.25,\n",
       " 215.30000000000001,\n",
       " 215.61000000000001,\n",
       " 215.78,\n",
       " 215.80000000000001,\n",
       " 216.08000000000001,\n",
       " 216.11000000000001,\n",
       " 216.13,\n",
       " 216.28,\n",
       " 216.46000000000001,\n",
       " 216.53,\n",
       " 216.56,\n",
       " 216.66,\n",
       " 216.71000000000001,\n",
       " 216.91999999999999,\n",
       " 217.34,\n",
       " 217.40000000000001,\n",
       " 217.59,\n",
       " 217.81999999999999,\n",
       " 217.90000000000001,\n",
       " 218.0,\n",
       " 218.06,\n",
       " 218.33000000000001,\n",
       " 218.44999999999999,\n",
       " 218.61000000000001,\n",
       " 218.74000000000001,\n",
       " 218.81999999999999,\n",
       " 218.87,\n",
       " 219.12,\n",
       " 219.16999999999999,\n",
       " 219.31999999999999,\n",
       " 219.36000000000001,\n",
       " 219.53,\n",
       " 219.58000000000001,\n",
       " 219.69999999999999,\n",
       " 219.71000000000001,\n",
       " 219.87,\n",
       " 219.91999999999999,\n",
       " 220.00999999999999,\n",
       " 220.03,\n",
       " 220.19999999999999,\n",
       " 220.25,\n",
       " 221.08000000000001,\n",
       " 221.24000000000001,\n",
       " 221.28,\n",
       " 221.28999999999999,\n",
       " 221.28999999999999,\n",
       " 221.30000000000001,\n",
       " 221.75999999999999,\n",
       " 221.81999999999999,\n",
       " 221.90000000000001,\n",
       " 221.94,\n",
       " 222.08000000000001,\n",
       " 222.18000000000001,\n",
       " 222.22,\n",
       " 222.22999999999999,\n",
       " 222.25,\n",
       " 222.40000000000001,\n",
       " 222.41999999999999,\n",
       " 222.41999999999999,\n",
       " 222.59999999999999,\n",
       " 222.87,\n",
       " 223.13999999999999,\n",
       " 223.19999999999999,\n",
       " 223.38999999999999,\n",
       " 223.63,\n",
       " 223.78,\n",
       " 223.88999999999999,\n",
       " 224.16,\n",
       " 224.34999999999999,\n",
       " 224.5,\n",
       " 224.55000000000001,\n",
       " 224.78,\n",
       " 224.87,\n",
       " 224.90000000000001,\n",
       " 224.94999999999999,\n",
       " 225.16,\n",
       " 225.25999999999999,\n",
       " 225.34,\n",
       " 225.38999999999999,\n",
       " 225.47,\n",
       " 225.59999999999999,\n",
       " 225.88,\n",
       " 226.12,\n",
       " 226.25,\n",
       " 226.28,\n",
       " 226.63999999999999,\n",
       " 226.74000000000001,\n",
       " 226.90000000000001,\n",
       " 227.08000000000001,\n",
       " 227.13,\n",
       " 227.15000000000001,\n",
       " 227.28999999999999,\n",
       " 227.33000000000001,\n",
       " 227.56,\n",
       " 227.59,\n",
       " 227.65000000000001,\n",
       " 227.87,\n",
       " 228.05000000000001,\n",
       " 228.05000000000001,\n",
       " 228.08000000000001,\n",
       " 228.28,\n",
       " 228.31999999999999,\n",
       " 228.5,\n",
       " 228.53,\n",
       " 228.53999999999999,\n",
       " 228.55000000000001,\n",
       " 228.77000000000001,\n",
       " 228.84999999999999,\n",
       " 228.87,\n",
       " 228.91999999999999,\n",
       " 229.03999999999999,\n",
       " 229.06,\n",
       " 229.08000000000001,\n",
       " 229.19,\n",
       " 229.31999999999999,\n",
       " 229.56999999999999,\n",
       " 229.61000000000001,\n",
       " 229.77000000000001,\n",
       " 229.94,\n",
       " 229.97,\n",
       " 230.00999999999999,\n",
       " 230.05000000000001,\n",
       " 230.22999999999999,\n",
       " 230.41999999999999,\n",
       " 230.5,\n",
       " 230.5,\n",
       " 230.59999999999999,\n",
       " 230.66,\n",
       " 230.68000000000001,\n",
       " 230.71000000000001,\n",
       " 230.71000000000001,\n",
       " 230.78,\n",
       " 230.78999999999999,\n",
       " 230.91,\n",
       " 231.05000000000001,\n",
       " 231.16999999999999,\n",
       " 231.22,\n",
       " 231.27000000000001,\n",
       " 231.36000000000001,\n",
       " 231.41,\n",
       " 231.58000000000001,\n",
       " 231.58000000000001,\n",
       " 231.75,\n",
       " 231.80000000000001,\n",
       " 231.86000000000001,\n",
       " 231.86000000000001,\n",
       " 231.97,\n",
       " 231.97,\n",
       " 232.03,\n",
       " 232.13999999999999,\n",
       " 232.22999999999999,\n",
       " 232.27000000000001,\n",
       " 232.38999999999999,\n",
       " 232.38999999999999,\n",
       " 232.59999999999999,\n",
       " 232.62,\n",
       " 232.62,\n",
       " 232.66,\n",
       " 232.72999999999999,\n",
       " 232.80000000000001,\n",
       " 232.86000000000001,\n",
       " 232.88999999999999,\n",
       " 232.91,\n",
       " 233.02000000000001,\n",
       " 233.13999999999999,\n",
       " 233.16999999999999,\n",
       " 233.22,\n",
       " 233.31999999999999,\n",
       " 233.34999999999999,\n",
       " 233.40000000000001,\n",
       " 233.46000000000001,\n",
       " 233.50999999999999,\n",
       " 233.52000000000001,\n",
       " 233.56,\n",
       " 233.66999999999999,\n",
       " 233.69999999999999,\n",
       " 233.75,\n",
       " 233.77000000000001,\n",
       " 233.78,\n",
       " 233.87,\n",
       " 234.06,\n",
       " 234.08000000000001,\n",
       " 234.13,\n",
       " 234.16999999999999,\n",
       " 234.27000000000001,\n",
       " 234.30000000000001,\n",
       " 234.38999999999999,\n",
       " 234.65000000000001,\n",
       " 234.72,\n",
       " 234.74000000000001,\n",
       " 234.77000000000001,\n",
       " 234.91,\n",
       " 234.91999999999999,\n",
       " 235.05000000000001,\n",
       " 235.06,\n",
       " 235.06999999999999,\n",
       " 235.22999999999999,\n",
       " 235.24000000000001,\n",
       " 235.27000000000001,\n",
       " 235.28,\n",
       " 235.31,\n",
       " 235.31999999999999,\n",
       " 235.34999999999999,\n",
       " 235.44999999999999,\n",
       " 235.44999999999999,\n",
       " 235.5,\n",
       " 235.52000000000001,\n",
       " 235.58000000000001,\n",
       " 235.59,\n",
       " 235.66,\n",
       " 235.78999999999999,\n",
       " 235.80000000000001,\n",
       " 235.81,\n",
       " 235.83000000000001,\n",
       " 236.05000000000001,\n",
       " 236.06,\n",
       " 236.06999999999999,\n",
       " 236.08000000000001,\n",
       " 236.09999999999999,\n",
       " 236.16,\n",
       " 236.19,\n",
       " 236.38,\n",
       " 236.41999999999999,\n",
       " 236.53999999999999,\n",
       " 236.63999999999999,\n",
       " 236.65000000000001,\n",
       " 236.75,\n",
       " 236.77000000000001,\n",
       " 236.84,\n",
       " 236.90000000000001,\n",
       " 236.93000000000001,\n",
       " 237.19999999999999,\n",
       " 237.25999999999999,\n",
       " 237.27000000000001,\n",
       " 237.31,\n",
       " 237.31999999999999,\n",
       " 237.36000000000001,\n",
       " 237.46000000000001,\n",
       " 237.5,\n",
       " 237.56999999999999,\n",
       " 237.68000000000001,\n",
       " 237.69,\n",
       " 237.69,\n",
       " 237.69,\n",
       " 237.77000000000001,\n",
       " 237.83000000000001,\n",
       " 237.84999999999999,\n",
       " 237.96000000000001,\n",
       " 238.05000000000001,\n",
       " 238.16999999999999,\n",
       " 238.24000000000001,\n",
       " 238.30000000000001,\n",
       " 238.31999999999999,\n",
       " 238.31999999999999,\n",
       " 238.34,\n",
       " 238.50999999999999,\n",
       " 238.53,\n",
       " 238.53,\n",
       " 238.75999999999999,\n",
       " 239.25999999999999,\n",
       " 239.27000000000001,\n",
       " 239.28999999999999,\n",
       " 239.30000000000001,\n",
       " 239.31999999999999,\n",
       " 239.69,\n",
       " 239.87,\n",
       " 239.91,\n",
       " ...]"
      ]
     },
     "execution_count": 24,
     "metadata": {},
     "output_type": "execute_result"
    }
   ],
   "source": [
    "sorted(pokemon)\n",
    "sorted(google)"
   ]
  },
  {
   "cell_type": "code",
   "execution_count": 25,
   "metadata": {},
   "outputs": [
    {
     "data": {
      "text/plain": [
       "['Bulbasaur',\n",
       " 'Ivysaur',\n",
       " 'Venusaur',\n",
       " 'Charmander',\n",
       " 'Charmeleon',\n",
       " 'Charizard',\n",
       " 'Squirtle',\n",
       " 'Wartortle',\n",
       " 'Blastoise',\n",
       " 'Caterpie',\n",
       " 'Metapod',\n",
       " 'Butterfree',\n",
       " 'Weedle',\n",
       " 'Kakuna',\n",
       " 'Beedrill',\n",
       " 'Pidgey',\n",
       " 'Pidgeotto',\n",
       " 'Pidgeot',\n",
       " 'Rattata',\n",
       " 'Raticate',\n",
       " 'Spearow',\n",
       " 'Fearow',\n",
       " 'Ekans',\n",
       " 'Arbok',\n",
       " 'Pikachu',\n",
       " 'Raichu',\n",
       " 'Sandshrew',\n",
       " 'Sandslash',\n",
       " 'Nidoran',\n",
       " 'Nidorina',\n",
       " 'Nidoqueen',\n",
       " 'Nidoran♂',\n",
       " 'Nidorino',\n",
       " 'Nidoking',\n",
       " 'Clefairy',\n",
       " 'Clefable',\n",
       " 'Vulpix',\n",
       " 'Ninetales',\n",
       " 'Jigglypuff',\n",
       " 'Wigglytuff',\n",
       " 'Zubat',\n",
       " 'Golbat',\n",
       " 'Oddish',\n",
       " 'Gloom',\n",
       " 'Vileplume',\n",
       " 'Paras',\n",
       " 'Parasect',\n",
       " 'Venonat',\n",
       " 'Venomoth',\n",
       " 'Diglett',\n",
       " 'Dugtrio',\n",
       " 'Meowth',\n",
       " 'Persian',\n",
       " 'Psyduck',\n",
       " 'Golduck',\n",
       " 'Mankey',\n",
       " 'Primeape',\n",
       " 'Growlithe',\n",
       " 'Arcanine',\n",
       " 'Poliwag',\n",
       " 'Poliwhirl',\n",
       " 'Poliwrath',\n",
       " 'Abra',\n",
       " 'Kadabra',\n",
       " 'Alakazam',\n",
       " 'Machop',\n",
       " 'Machoke',\n",
       " 'Machamp',\n",
       " 'Bellsprout',\n",
       " 'Weepinbell',\n",
       " 'Victreebel',\n",
       " 'Tentacool',\n",
       " 'Tentacruel',\n",
       " 'Geodude',\n",
       " 'Graveler',\n",
       " 'Golem',\n",
       " 'Ponyta',\n",
       " 'Rapidash',\n",
       " 'Slowpoke',\n",
       " 'Slowbro',\n",
       " 'Magnemite',\n",
       " 'Magneton',\n",
       " \"Farfetch'd\",\n",
       " 'Doduo',\n",
       " 'Dodrio',\n",
       " 'Seel',\n",
       " 'Dewgong',\n",
       " 'Grimer',\n",
       " 'Muk',\n",
       " 'Shellder',\n",
       " 'Cloyster',\n",
       " 'Gastly',\n",
       " 'Haunter',\n",
       " 'Gengar',\n",
       " 'Onix',\n",
       " 'Drowzee',\n",
       " 'Hypno',\n",
       " 'Krabby',\n",
       " 'Kingler',\n",
       " 'Voltorb',\n",
       " 'Electrode',\n",
       " 'Exeggcute',\n",
       " 'Exeggutor',\n",
       " 'Cubone',\n",
       " 'Marowak',\n",
       " 'Hitmonlee',\n",
       " 'Hitmonchan',\n",
       " 'Lickitung',\n",
       " 'Koffing',\n",
       " 'Weezing',\n",
       " 'Rhyhorn',\n",
       " 'Rhydon',\n",
       " 'Chansey',\n",
       " 'Tangela',\n",
       " 'Kangaskhan',\n",
       " 'Horsea',\n",
       " 'Seadra',\n",
       " 'Goldeen',\n",
       " 'Seaking',\n",
       " 'Staryu',\n",
       " 'Starmie',\n",
       " 'Mr. Mime',\n",
       " 'Scyther',\n",
       " 'Jynx',\n",
       " 'Electabuzz',\n",
       " 'Magmar',\n",
       " 'Pinsir',\n",
       " 'Tauros',\n",
       " 'Magikarp',\n",
       " 'Gyarados',\n",
       " 'Lapras',\n",
       " 'Ditto',\n",
       " 'Eevee',\n",
       " 'Vaporeon',\n",
       " 'Jolteon',\n",
       " 'Flareon',\n",
       " 'Porygon',\n",
       " 'Omanyte',\n",
       " 'Omastar',\n",
       " 'Kabuto',\n",
       " 'Kabutops',\n",
       " 'Aerodactyl',\n",
       " 'Snorlax',\n",
       " 'Articuno',\n",
       " 'Zapdos',\n",
       " 'Moltres',\n",
       " 'Dratini',\n",
       " 'Dragonair',\n",
       " 'Dragonite',\n",
       " 'Mewtwo',\n",
       " 'Mew',\n",
       " 'Chikorita',\n",
       " 'Bayleef',\n",
       " 'Meganium',\n",
       " 'Cyndaquil',\n",
       " 'Quilava',\n",
       " 'Typhlosion',\n",
       " 'Totodile',\n",
       " 'Croconaw',\n",
       " 'Feraligatr',\n",
       " 'Sentret',\n",
       " 'Furret',\n",
       " 'Hoothoot',\n",
       " 'Noctowl',\n",
       " 'Ledyba',\n",
       " 'Ledian',\n",
       " 'Spinarak',\n",
       " 'Ariados',\n",
       " 'Crobat',\n",
       " 'Chinchou',\n",
       " 'Lanturn',\n",
       " 'Pichu',\n",
       " 'Cleffa',\n",
       " 'Igglybuff',\n",
       " 'Togepi',\n",
       " 'Togetic',\n",
       " 'Natu',\n",
       " 'Xatu',\n",
       " 'Mareep',\n",
       " 'Flaaffy',\n",
       " 'Ampharos',\n",
       " 'Bellossom',\n",
       " 'Marill',\n",
       " 'Azumarill',\n",
       " 'Sudowoodo',\n",
       " 'Politoed',\n",
       " 'Hoppip',\n",
       " 'Skiploom',\n",
       " 'Jumpluff',\n",
       " 'Aipom',\n",
       " 'Sunkern',\n",
       " 'Sunflora',\n",
       " 'Yanma',\n",
       " 'Wooper',\n",
       " 'Quagsire',\n",
       " 'Espeon',\n",
       " 'Umbreon',\n",
       " 'Murkrow',\n",
       " 'Slowking',\n",
       " 'Misdreavus',\n",
       " 'Unown',\n",
       " 'Wobbuffet',\n",
       " 'Girafarig',\n",
       " 'Pineco',\n",
       " 'Forretress',\n",
       " 'Dunsparce',\n",
       " 'Gligar',\n",
       " 'Steelix',\n",
       " 'Snubbull',\n",
       " 'Granbull',\n",
       " 'Qwilfish',\n",
       " 'Scizor',\n",
       " 'Shuckle',\n",
       " 'Heracross',\n",
       " 'Sneasel',\n",
       " 'Teddiursa',\n",
       " 'Ursaring',\n",
       " 'Slugma',\n",
       " 'Magcargo',\n",
       " 'Swinub',\n",
       " 'Piloswine',\n",
       " 'Corsola',\n",
       " 'Remoraid',\n",
       " 'Octillery',\n",
       " 'Delibird',\n",
       " 'Mantine',\n",
       " 'Skarmory',\n",
       " 'Houndour',\n",
       " 'Houndoom',\n",
       " 'Kingdra',\n",
       " 'Phanpy',\n",
       " 'Donphan',\n",
       " 'Porygon2',\n",
       " 'Stantler',\n",
       " 'Smeargle',\n",
       " 'Tyrogue',\n",
       " 'Hitmontop',\n",
       " 'Smoochum',\n",
       " 'Elekid',\n",
       " 'Magby',\n",
       " 'Miltank',\n",
       " 'Blissey',\n",
       " 'Raikou',\n",
       " 'Entei',\n",
       " 'Suicune',\n",
       " 'Larvitar',\n",
       " 'Pupitar',\n",
       " 'Tyranitar',\n",
       " 'Lugia',\n",
       " 'Ho-oh',\n",
       " 'Celebi',\n",
       " 'Treecko',\n",
       " 'Grovyle',\n",
       " 'Sceptile',\n",
       " 'Torchic',\n",
       " 'Combusken',\n",
       " 'Blaziken',\n",
       " 'Mudkip',\n",
       " 'Marshtomp',\n",
       " 'Swampert',\n",
       " 'Poochyena',\n",
       " 'Mightyena',\n",
       " 'Zigzagoon',\n",
       " 'Linoone',\n",
       " 'Wurmple',\n",
       " 'Silcoon',\n",
       " 'Beautifly',\n",
       " 'Cascoon',\n",
       " 'Dustox',\n",
       " 'Lotad',\n",
       " 'Lombre',\n",
       " 'Ludicolo',\n",
       " 'Seedot',\n",
       " 'Nuzleaf',\n",
       " 'Shiftry',\n",
       " 'Taillow',\n",
       " 'Swellow',\n",
       " 'Wingull',\n",
       " 'Pelipper',\n",
       " 'Ralts',\n",
       " 'Kirlia',\n",
       " 'Gardevoir',\n",
       " 'Surskit',\n",
       " 'Masquerain',\n",
       " 'Shroomish',\n",
       " 'Breloom',\n",
       " 'Slakoth',\n",
       " 'Vigoroth',\n",
       " 'Slaking',\n",
       " 'Nincada',\n",
       " 'Ninjask',\n",
       " 'Shedinja',\n",
       " 'Whismur',\n",
       " 'Loudred',\n",
       " 'Exploud',\n",
       " 'Makuhita',\n",
       " 'Hariyama',\n",
       " 'Azurill',\n",
       " 'Nosepass',\n",
       " 'Skitty',\n",
       " 'Delcatty',\n",
       " 'Sableye',\n",
       " 'Mawile',\n",
       " 'Aron',\n",
       " 'Lairon',\n",
       " 'Aggron',\n",
       " 'Meditite',\n",
       " 'Medicham',\n",
       " 'Electrike',\n",
       " 'Manectric',\n",
       " 'Plusle',\n",
       " 'Minun',\n",
       " 'Volbeat',\n",
       " 'Illumise',\n",
       " 'Roselia',\n",
       " 'Gulpin',\n",
       " 'Swalot',\n",
       " 'Carvanha',\n",
       " 'Sharpedo',\n",
       " 'Wailmer',\n",
       " 'Wailord',\n",
       " 'Numel',\n",
       " 'Camerupt',\n",
       " 'Torkoal',\n",
       " 'Spoink',\n",
       " 'Grumpig',\n",
       " 'Spinda',\n",
       " 'Trapinch',\n",
       " 'Vibrava',\n",
       " 'Flygon',\n",
       " 'Cacnea',\n",
       " 'Cacturne',\n",
       " 'Swablu',\n",
       " 'Altaria',\n",
       " 'Zangoose',\n",
       " 'Seviper',\n",
       " 'Lunatone',\n",
       " 'Solrock',\n",
       " 'Barboach',\n",
       " 'Whiscash',\n",
       " 'Corphish',\n",
       " 'Crawdaunt',\n",
       " 'Baltoy',\n",
       " 'Claydol',\n",
       " 'Lileep',\n",
       " 'Cradily',\n",
       " 'Anorith',\n",
       " 'Armaldo',\n",
       " 'Feebas',\n",
       " 'Milotic',\n",
       " 'Castform',\n",
       " 'Kecleon',\n",
       " 'Shuppet',\n",
       " 'Banette',\n",
       " 'Duskull',\n",
       " 'Dusclops',\n",
       " 'Tropius',\n",
       " 'Chimecho',\n",
       " 'Absol',\n",
       " 'Wynaut',\n",
       " 'Snorunt',\n",
       " 'Glalie',\n",
       " 'Spheal',\n",
       " 'Sealeo',\n",
       " 'Walrein',\n",
       " 'Clamperl',\n",
       " 'Huntail',\n",
       " 'Gorebyss',\n",
       " 'Relicanth',\n",
       " 'Luvdisc',\n",
       " 'Bagon',\n",
       " 'Shelgon',\n",
       " 'Salamence',\n",
       " 'Beldum',\n",
       " 'Metang',\n",
       " 'Metagross',\n",
       " 'Regirock',\n",
       " 'Regice',\n",
       " 'Registeel',\n",
       " 'Latias',\n",
       " 'Latios',\n",
       " 'Kyogre',\n",
       " 'Groudon',\n",
       " 'Rayquaza',\n",
       " 'Jirachi',\n",
       " 'Deoxys',\n",
       " 'Turtwig',\n",
       " 'Grotle',\n",
       " 'Torterra',\n",
       " 'Chimchar',\n",
       " 'Monferno',\n",
       " 'Infernape',\n",
       " 'Piplup',\n",
       " 'Prinplup',\n",
       " 'Empoleon',\n",
       " 'Starly',\n",
       " 'Staravia',\n",
       " 'Staraptor',\n",
       " 'Bidoof',\n",
       " 'Bibarel',\n",
       " 'Kricketot',\n",
       " 'Kricketune',\n",
       " 'Shinx',\n",
       " 'Luxio',\n",
       " 'Luxray',\n",
       " 'Budew',\n",
       " 'Roserade',\n",
       " 'Cranidos',\n",
       " 'Rampardos',\n",
       " 'Shieldon',\n",
       " 'Bastiodon',\n",
       " 'Burmy',\n",
       " 'Wormadam',\n",
       " 'Mothim',\n",
       " 'Combee',\n",
       " 'Vespiquen',\n",
       " 'Pachirisu',\n",
       " 'Buizel',\n",
       " 'Floatzel',\n",
       " 'Cherubi',\n",
       " 'Cherrim',\n",
       " 'Shellos',\n",
       " 'Gastrodon',\n",
       " 'Ambipom',\n",
       " 'Drifloon',\n",
       " 'Drifblim',\n",
       " 'Buneary',\n",
       " 'Lopunny',\n",
       " 'Mismagius',\n",
       " 'Honchkrow',\n",
       " 'Glameow',\n",
       " 'Purugly',\n",
       " 'Chingling',\n",
       " 'Stunky',\n",
       " 'Skuntank',\n",
       " 'Bronzor',\n",
       " 'Bronzong',\n",
       " 'Bonsly',\n",
       " 'Mime Jr.',\n",
       " 'Happiny',\n",
       " 'Chatot',\n",
       " 'Spiritomb',\n",
       " 'Gible',\n",
       " 'Gabite',\n",
       " 'Garchomp',\n",
       " 'Munchlax',\n",
       " 'Riolu',\n",
       " 'Lucario',\n",
       " 'Hippopotas',\n",
       " 'Hippowdon',\n",
       " 'Skorupi',\n",
       " 'Drapion',\n",
       " 'Croagunk',\n",
       " 'Toxicroak',\n",
       " 'Carnivine',\n",
       " 'Finneon',\n",
       " 'Lumineon',\n",
       " 'Mantyke',\n",
       " 'Snover',\n",
       " 'Abomasnow',\n",
       " 'Weavile',\n",
       " 'Magnezone',\n",
       " 'Lickilicky',\n",
       " 'Rhyperior',\n",
       " 'Tangrowth',\n",
       " 'Electivire',\n",
       " 'Magmortar',\n",
       " 'Togekiss',\n",
       " 'Yanmega',\n",
       " 'Leafeon',\n",
       " 'Glaceon',\n",
       " 'Gliscor',\n",
       " 'Mamoswine',\n",
       " 'Porygon-Z',\n",
       " 'Gallade',\n",
       " 'Probopass',\n",
       " 'Dusknoir',\n",
       " 'Froslass',\n",
       " 'Rotom',\n",
       " 'Uxie',\n",
       " 'Mesprit',\n",
       " 'Azelf',\n",
       " 'Dialga',\n",
       " 'Palkia',\n",
       " 'Heatran',\n",
       " 'Regigigas',\n",
       " 'Giratina',\n",
       " 'Cresselia',\n",
       " 'Phione',\n",
       " 'Manaphy',\n",
       " 'Darkrai',\n",
       " 'Shaymin',\n",
       " 'Arceus',\n",
       " 'Victini',\n",
       " 'Snivy',\n",
       " 'Servine',\n",
       " 'Serperior',\n",
       " 'Tepig',\n",
       " 'Pignite',\n",
       " 'Emboar',\n",
       " 'Oshawott',\n",
       " 'Dewott',\n",
       " 'Samurott',\n",
       " 'Patrat',\n",
       " 'Watchog',\n",
       " 'Lillipup',\n",
       " 'Herdier',\n",
       " 'Stoutland',\n",
       " 'Purrloin',\n",
       " 'Liepard',\n",
       " 'Pansage',\n",
       " 'Simisage',\n",
       " 'Pansear',\n",
       " 'Simisear',\n",
       " 'Panpour',\n",
       " 'Simipour',\n",
       " 'Munna',\n",
       " 'Musharna',\n",
       " 'Pidove',\n",
       " 'Tranquill',\n",
       " 'Unfezant',\n",
       " 'Blitzle',\n",
       " 'Zebstrika',\n",
       " 'Roggenrola',\n",
       " 'Boldore',\n",
       " 'Gigalith',\n",
       " 'Woobat',\n",
       " 'Swoobat',\n",
       " 'Drilbur',\n",
       " 'Excadrill',\n",
       " 'Audino',\n",
       " 'Timburr',\n",
       " 'Gurdurr',\n",
       " 'Conkeldurr',\n",
       " 'Tympole',\n",
       " 'Palpitoad',\n",
       " 'Seismitoad',\n",
       " 'Throh',\n",
       " 'Sawk',\n",
       " 'Sewaddle',\n",
       " 'Swadloon',\n",
       " 'Leavanny',\n",
       " 'Venipede',\n",
       " 'Whirlipede',\n",
       " 'Scolipede',\n",
       " 'Cottonee',\n",
       " 'Whimsicott',\n",
       " 'Petilil',\n",
       " 'Lilligant',\n",
       " 'Basculin',\n",
       " 'Sandile',\n",
       " 'Krokorok',\n",
       " 'Krookodile',\n",
       " 'Darumaka',\n",
       " 'Darmanitan',\n",
       " 'Maractus',\n",
       " 'Dwebble',\n",
       " 'Crustle',\n",
       " 'Scraggy',\n",
       " 'Scrafty',\n",
       " 'Sigilyph',\n",
       " 'Yamask',\n",
       " 'Cofagrigus',\n",
       " 'Tirtouga',\n",
       " 'Carracosta',\n",
       " 'Archen',\n",
       " 'Archeops',\n",
       " 'Trubbish',\n",
       " 'Garbodor',\n",
       " 'Zorua',\n",
       " 'Zoroark',\n",
       " 'Minccino',\n",
       " 'Cinccino',\n",
       " 'Gothita',\n",
       " 'Gothorita',\n",
       " 'Gothitelle',\n",
       " 'Solosis',\n",
       " 'Duosion',\n",
       " 'Reuniclus',\n",
       " 'Ducklett',\n",
       " 'Swanna',\n",
       " 'Vanillite',\n",
       " 'Vanillish',\n",
       " 'Vanilluxe',\n",
       " 'Deerling',\n",
       " 'Sawsbuck',\n",
       " 'Emolga',\n",
       " 'Karrablast',\n",
       " 'Escavalier',\n",
       " 'Foongus',\n",
       " 'Amoonguss',\n",
       " 'Frillish',\n",
       " 'Jellicent',\n",
       " 'Alomomola',\n",
       " 'Joltik',\n",
       " 'Galvantula',\n",
       " 'Ferroseed',\n",
       " 'Ferrothorn',\n",
       " 'Klink',\n",
       " 'Klang',\n",
       " 'Klinklang',\n",
       " 'Tynamo',\n",
       " 'Eelektrik',\n",
       " 'Eelektross',\n",
       " 'Elgyem',\n",
       " 'Beheeyem',\n",
       " 'Litwick',\n",
       " 'Lampent',\n",
       " 'Chandelure',\n",
       " 'Axew',\n",
       " 'Fraxure',\n",
       " 'Haxorus',\n",
       " 'Cubchoo',\n",
       " 'Beartic',\n",
       " 'Cryogonal',\n",
       " 'Shelmet',\n",
       " 'Accelgor',\n",
       " 'Stunfisk',\n",
       " 'Mienfoo',\n",
       " 'Mienshao',\n",
       " 'Druddigon',\n",
       " 'Golett',\n",
       " 'Golurk',\n",
       " 'Pawniard',\n",
       " 'Bisharp',\n",
       " 'Bouffalant',\n",
       " 'Rufflet',\n",
       " 'Braviary',\n",
       " 'Vullaby',\n",
       " 'Mandibuzz',\n",
       " 'Heatmor',\n",
       " 'Durant',\n",
       " 'Deino',\n",
       " 'Zweilous',\n",
       " 'Hydreigon',\n",
       " 'Larvesta',\n",
       " 'Volcarona',\n",
       " 'Cobalion',\n",
       " 'Terrakion',\n",
       " 'Virizion',\n",
       " 'Tornadus',\n",
       " 'Thundurus',\n",
       " 'Reshiram',\n",
       " 'Zekrom',\n",
       " 'Landorus',\n",
       " 'Kyurem',\n",
       " 'Keldeo',\n",
       " 'Meloetta',\n",
       " 'Genesect',\n",
       " 'Chespin',\n",
       " 'Quilladin',\n",
       " 'Chesnaught',\n",
       " 'Fennekin',\n",
       " 'Braixen',\n",
       " 'Delphox',\n",
       " 'Froakie',\n",
       " 'Frogadier',\n",
       " 'Greninja',\n",
       " 'Bunnelby',\n",
       " 'Diggersby',\n",
       " 'Fletchling',\n",
       " 'Fletchinder',\n",
       " 'Talonflame',\n",
       " 'Scatterbug',\n",
       " 'Spewpa',\n",
       " 'Vivillon',\n",
       " 'Litleo',\n",
       " 'Pyroar',\n",
       " 'Flabébé',\n",
       " 'Floette',\n",
       " 'Florges',\n",
       " 'Skiddo',\n",
       " 'Gogoat',\n",
       " 'Pancham',\n",
       " 'Pangoro',\n",
       " 'Furfrou',\n",
       " 'Espurr',\n",
       " 'Meowstic',\n",
       " 'Honedge',\n",
       " 'Doublade',\n",
       " 'Aegislash',\n",
       " 'Spritzee',\n",
       " 'Aromatisse',\n",
       " 'Swirlix',\n",
       " 'Slurpuff',\n",
       " 'Inkay',\n",
       " 'Malamar',\n",
       " 'Binacle',\n",
       " 'Barbaracle',\n",
       " 'Skrelp',\n",
       " 'Dragalge',\n",
       " 'Clauncher',\n",
       " 'Clawitzer',\n",
       " 'Helioptile',\n",
       " 'Heliolisk',\n",
       " 'Tyrunt',\n",
       " 'Tyrantrum',\n",
       " 'Amaura',\n",
       " 'Aurorus',\n",
       " 'Sylveon',\n",
       " 'Hawlucha',\n",
       " 'Dedenne',\n",
       " 'Carbink',\n",
       " 'Goomy',\n",
       " 'Sliggoo',\n",
       " 'Goodra',\n",
       " 'Klefki',\n",
       " 'Phantump',\n",
       " 'Trevenant',\n",
       " 'Pumpkaboo',\n",
       " 'Gourgeist',\n",
       " 'Bergmite',\n",
       " 'Avalugg',\n",
       " 'Noibat',\n",
       " 'Noivern',\n",
       " 'Xerneas',\n",
       " 'Yveltal',\n",
       " 'Zygarde',\n",
       " 'Diancie',\n",
       " 'Hoopa',\n",
       " 'Volcanion']"
      ]
     },
     "execution_count": 25,
     "metadata": {},
     "output_type": "execute_result"
    }
   ],
   "source": [
    "list(pokemon)"
   ]
  },
  {
   "cell_type": "code",
   "execution_count": 26,
   "metadata": {},
   "outputs": [
    {
     "data": {
      "text/plain": [
       "{0: 50.119999999999997,\n",
       " 1: 54.100000000000001,\n",
       " 2: 54.649999999999999,\n",
       " 3: 52.380000000000003,\n",
       " 4: 52.950000000000003,\n",
       " 5: 53.899999999999999,\n",
       " 6: 53.020000000000003,\n",
       " 7: 50.950000000000003,\n",
       " 8: 51.130000000000003,\n",
       " 9: 50.07,\n",
       " 10: 50.700000000000003,\n",
       " 11: 49.950000000000003,\n",
       " 12: 50.740000000000002,\n",
       " 13: 51.100000000000001,\n",
       " 14: 51.100000000000001,\n",
       " 15: 52.609999999999999,\n",
       " 16: 53.700000000000003,\n",
       " 17: 55.689999999999998,\n",
       " 18: 55.939999999999998,\n",
       " 19: 56.93,\n",
       " 20: 58.689999999999998,\n",
       " 21: 59.619999999999997,\n",
       " 22: 58.859999999999999,\n",
       " 23: 59.130000000000003,\n",
       " 24: 60.350000000000001,\n",
       " 25: 59.859999999999999,\n",
       " 26: 59.07,\n",
       " 27: 63.369999999999997,\n",
       " 28: 65.469999999999999,\n",
       " 29: 64.739999999999995,\n",
       " 30: 66.219999999999999,\n",
       " 31: 67.459999999999994,\n",
       " 32: 69.120000000000005,\n",
       " 33: 68.469999999999999,\n",
       " 34: 69.359999999999999,\n",
       " 35: 68.799999999999997,\n",
       " 36: 67.560000000000002,\n",
       " 37: 68.629999999999995,\n",
       " 38: 70.379999999999995,\n",
       " 39: 70.930000000000007,\n",
       " 40: 71.980000000000004,\n",
       " 41: 74.510000000000005,\n",
       " 42: 73.900000000000006,\n",
       " 43: 70.170000000000002,\n",
       " 44: 74.620000000000005,\n",
       " 45: 86.129999999999995,\n",
       " 46: 93.609999999999999,\n",
       " 47: 90.810000000000002,\n",
       " 48: 92.890000000000001,\n",
       " 49: 96.549999999999997,\n",
       " 50: 95.219999999999999,\n",
       " 51: 97.920000000000002,\n",
       " 52: 97.340000000000003,\n",
       " 53: 95.739999999999995,\n",
       " 54: 92.260000000000005,\n",
       " 55: 84.590000000000003,\n",
       " 56: 86.189999999999998,\n",
       " 57: 84.269999999999996,\n",
       " 58: 83.849999999999994,\n",
       " 59: 91.420000000000002,\n",
       " 60: 90.909999999999997,\n",
       " 61: 92.340000000000003,\n",
       " 62: 86.189999999999998,\n",
       " 63: 86.159999999999997,\n",
       " 64: 83.689999999999998,\n",
       " 65: 84.620000000000005,\n",
       " 66: 82.469999999999999,\n",
       " 67: 83.680000000000007,\n",
       " 68: 87.290000000000006,\n",
       " 69: 89.609999999999999,\n",
       " 70: 90.430000000000007,\n",
       " 71: 90.900000000000006,\n",
       " 72: 89.890000000000001,\n",
       " 73: 89.609999999999999,\n",
       " 74: 90.109999999999999,\n",
       " 75: 88.060000000000002,\n",
       " 76: 85.629999999999995,\n",
       " 77: 84.909999999999997,\n",
       " 78: 86.629999999999995,\n",
       " 79: 85.739999999999995,\n",
       " 80: 85.140000000000001,\n",
       " 81: 89.260000000000005,\n",
       " 82: 89.799999999999997,\n",
       " 83: 88.150000000000006,\n",
       " 84: 89.950000000000003,\n",
       " 85: 92.420000000000002,\n",
       " 86: 91.780000000000001,\n",
       " 87: 93.060000000000002,\n",
       " 88: 93.859999999999999,\n",
       " 89: 95.859999999999999,\n",
       " 90: 96.280000000000001,\n",
       " 91: 96.349999999999994,\n",
       " 92: 98.700000000000003,\n",
       " 93: 96.299999999999997,\n",
       " 94: 101.25,\n",
       " 95: 97.150000000000006,\n",
       " 96: 96.659999999999997,\n",
       " 97: 94.180000000000007,\n",
       " 98: 96.829999999999998,\n",
       " 99: 97.430000000000007,\n",
       " 100: 96.670000000000002,\n",
       " 101: 97.590000000000003,\n",
       " 102: 97.569999999999993,\n",
       " 103: 99.890000000000001,\n",
       " 104: 101.84999999999999,\n",
       " 105: 98.549999999999997,\n",
       " 106: 96.859999999999999,\n",
       " 107: 94.049999999999997,\n",
       " 108: 90.269999999999996,\n",
       " 109: 88.469999999999999,\n",
       " 110: 94.530000000000001,\n",
       " 111: 93.950000000000003,\n",
       " 112: 95.069999999999993,\n",
       " 113: 97.709999999999994,\n",
       " 114: 95.849999999999994,\n",
       " 115: 102.88,\n",
       " 116: 105.31999999999999,\n",
       " 117: 102.08,\n",
       " 118: 97.920000000000002,\n",
       " 119: 99.219999999999999,\n",
       " 120: 95.689999999999998,\n",
       " 121: 93.900000000000006,\n",
       " 122: 93.609999999999999,\n",
       " 123: 96.400000000000006,\n",
       " 124: 97.519999999999996,\n",
       " 125: 99.109999999999999,\n",
       " 126: 98.849999999999994,\n",
       " 127: 98.879999999999995,\n",
       " 128: 95.590000000000003,\n",
       " 129: 96.879999999999995,\n",
       " 130: 94.349999999999994,\n",
       " 131: 92.840000000000003,\n",
       " 132: 93.900000000000006,\n",
       " 133: 92.939999999999998,\n",
       " 134: 92.5,\n",
       " 135: 93.409999999999997,\n",
       " 136: 92.859999999999999,\n",
       " 137: 94.310000000000002,\n",
       " 138: 92.510000000000005,\n",
       " 139: 90.579999999999998,\n",
       " 140: 89.900000000000006,\n",
       " 141: 88.810000000000002,\n",
       " 142: 87.409999999999997,\n",
       " 143: 89.219999999999999,\n",
       " 144: 87.709999999999994,\n",
       " 145: 89.560000000000002,\n",
       " 146: 89.930000000000007,\n",
       " 147: 90.349999999999994,\n",
       " 148: 89.209999999999994,\n",
       " 149: 89.400000000000006,\n",
       " 150: 89.540000000000006,\n",
       " 151: 90.620000000000005,\n",
       " 152: 89.700000000000003,\n",
       " 153: 90.129999999999995,\n",
       " 154: 90.159999999999997,\n",
       " 155: 89.930000000000007,\n",
       " 156: 92.549999999999997,\n",
       " 157: 94.189999999999998,\n",
       " 158: 94.519999999999996,\n",
       " 159: 96.780000000000001,\n",
       " 160: 95.930000000000007,\n",
       " 161: 96.519999999999996,\n",
       " 162: 96.879999999999995,\n",
       " 163: 96.370000000000005,\n",
       " 164: 95.629999999999995,\n",
       " 165: 92.409999999999997,\n",
       " 166: 93.390000000000001,\n",
       " 167: 95.599999999999994,\n",
       " 168: 98.950000000000003,\n",
       " 169: 102.01000000000001,\n",
       " 170: 107.8,\n",
       " 171: 111.65000000000001,\n",
       " 172: 109.27,\n",
       " 173: 109.78,\n",
       " 174: 109.62,\n",
       " 175: 109.89,\n",
       " 176: 111.03,\n",
       " 177: 112.98,\n",
       " 178: 114.14,\n",
       " 179: 113.38,\n",
       " 180: 113.90000000000001,\n",
       " 181: 112.90000000000001,\n",
       " 182: 113.79000000000001,\n",
       " 183: 115.53,\n",
       " 184: 114.25,\n",
       " 185: 114.51000000000001,\n",
       " 186: 115.41,\n",
       " 187: 116.45,\n",
       " 188: 119.45999999999999,\n",
       " 189: 119.47,\n",
       " 190: 120.68000000000001,\n",
       " 191: 127.59999999999999,\n",
       " 192: 127.87,\n",
       " 193: 130.27000000000001,\n",
       " 194: 129.47,\n",
       " 195: 132.87,\n",
       " 196: 138.5,\n",
       " 197: 143.86000000000001,\n",
       " 198: 143.81,\n",
       " 199: 139.99000000000001,\n",
       " 200: 145.31999999999999,\n",
       " 201: 146.41,\n",
       " 202: 139.63999999999999,\n",
       " 203: 143.00999999999999,\n",
       " 204: 141.11000000000001,\n",
       " 205: 141.22999999999999,\n",
       " 206: 139.03999999999999,\n",
       " 207: 137.25999999999999,\n",
       " 208: 138.58000000000001,\n",
       " 209: 140.0,\n",
       " 210: 143.21000000000001,\n",
       " 211: 143.78,\n",
       " 212: 144.50999999999999,\n",
       " 213: 144.71000000000001,\n",
       " 214: 148.47999999999999,\n",
       " 215: 151.90000000000001,\n",
       " 216: 150.84999999999999,\n",
       " 217: 146.21000000000001,\n",
       " 218: 146.93000000000001,\n",
       " 219: 145.47999999999999,\n",
       " 220: 147.71000000000001,\n",
       " 221: 145.62,\n",
       " 222: 147.62,\n",
       " 223: 147.97,\n",
       " 224: 146.53,\n",
       " 225: 145.75,\n",
       " 226: 149.28,\n",
       " 227: 150.28999999999999,\n",
       " 228: 150.44,\n",
       " 229: 149.62,\n",
       " 230: 154.80000000000001,\n",
       " 231: 155.84,\n",
       " 232: 156.81,\n",
       " 233: 151.05000000000001,\n",
       " 234: 147.78,\n",
       " 235: 147.90000000000001,\n",
       " 236: 148.31999999999999,\n",
       " 237: 146.59999999999999,\n",
       " 238: 143.74000000000001,\n",
       " 239: 145.66,\n",
       " 240: 149.44999999999999,\n",
       " 241: 148.5,\n",
       " 242: 148.72,\n",
       " 243: 146.03,\n",
       " 244: 145.47999999999999,\n",
       " 245: 145.63999999999999,\n",
       " 246: 142.69999999999999,\n",
       " 247: 141.88,\n",
       " 248: 144.72,\n",
       " 249: 141.86000000000001,\n",
       " 250: 142.68000000000001,\n",
       " 251: 142.41,\n",
       " 252: 139.86000000000001,\n",
       " 253: 139.86000000000001,\n",
       " 254: 136.87,\n",
       " 255: 139.65000000000001,\n",
       " 256: 141.13999999999999,\n",
       " 257: 141.15000000000001,\n",
       " 258: 141.65000000000001,\n",
       " 259: 144.08000000000001,\n",
       " 260: 143.49000000000001,\n",
       " 261: 142.86000000000001,\n",
       " 262: 142.97999999999999,\n",
       " 263: 144.08000000000001,\n",
       " 264: 143.41,\n",
       " 265: 147.28999999999999,\n",
       " 266: 147.55000000000001,\n",
       " 267: 149.40000000000001,\n",
       " 268: 154.72,\n",
       " 269: 155.68000000000001,\n",
       " 270: 151.34999999999999,\n",
       " 271: 151.16,\n",
       " 272: 149.94999999999999,\n",
       " 273: 151.74000000000001,\n",
       " 274: 153.80000000000001,\n",
       " 275: 155.78999999999999,\n",
       " 276: 155.53,\n",
       " 277: 157.52000000000001,\n",
       " 278: 156.97999999999999,\n",
       " 279: 156.81,\n",
       " 280: 152.84999999999999,\n",
       " 281: 154.66,\n",
       " 282: 158.06999999999999,\n",
       " 283: 159.18000000000001,\n",
       " 284: 155.34,\n",
       " 285: 155.19999999999999,\n",
       " 286: 156.22,\n",
       " 287: 156.34,\n",
       " 288: 155.16999999999999,\n",
       " 289: 152.90000000000001,\n",
       " 290: 150.33000000000001,\n",
       " 291: 148.56999999999999,\n",
       " 292: 147.91999999999999,\n",
       " 293: 152.34999999999999,\n",
       " 294: 151.49000000000001,\n",
       " 295: 154.19999999999999,\n",
       " 296: 151.44999999999999,\n",
       " 297: 169.78,\n",
       " 298: 174.15000000000001,\n",
       " 299: 173.28,\n",
       " 300: 177.53999999999999,\n",
       " 301: 176.34999999999999,\n",
       " 302: 178.91,\n",
       " 303: 185.88,\n",
       " 304: 189.5,\n",
       " 305: 189.65000000000001,\n",
       " 306: 192.78,\n",
       " 307: 195.02000000000001,\n",
       " 308: 197.31999999999999,\n",
       " 309: 194.75999999999999,\n",
       " 310: 189.38999999999999,\n",
       " 311: 195.34999999999999,\n",
       " 312: 195.0,\n",
       " 313: 198.28999999999999,\n",
       " 314: 196.19999999999999,\n",
       " 315: 198.88,\n",
       " 316: 201.52000000000001,\n",
       " 317: 199.90000000000001,\n",
       " 318: 204.47999999999999,\n",
       " 319: 208.03,\n",
       " 320: 211.22,\n",
       " 321: 214.09999999999999,\n",
       " 322: 211.53,\n",
       " 323: 201.56999999999999,\n",
       " 324: 202.25,\n",
       " 325: 206.84,\n",
       " 326: 208.63999999999999,\n",
       " 327: 202.72,\n",
       " 328: 202.06999999999999,\n",
       " 329: 201.91,\n",
       " 330: 205.12,\n",
       " 331: 204.40000000000001,\n",
       " 332: 206.09999999999999,\n",
       " 333: 208.53999999999999,\n",
       " 334: 209.27000000000001,\n",
       " 335: 211.05000000000001,\n",
       " 336: 214.86000000000001,\n",
       " 337: 212.09,\n",
       " 338: 214.66,\n",
       " 339: 212.94999999999999,\n",
       " 340: 215.80000000000001,\n",
       " 341: 215.25,\n",
       " 342: 212.11000000000001,\n",
       " 343: 213.13,\n",
       " 344: 209.86000000000001,\n",
       " 345: 207.22,\n",
       " 346: 217.40000000000001,\n",
       " 347: 222.40000000000001,\n",
       " 348: 225.38999999999999,\n",
       " 349: 232.59999999999999,\n",
       " 350: 233.22,\n",
       " 351: 234.65000000000001,\n",
       " 352: 235.58000000000001,\n",
       " 353: 231.58000000000001,\n",
       " 354: 232.88999999999999,\n",
       " 355: 233.31999999999999,\n",
       " 356: 222.22999999999999,\n",
       " 357: 218.0,\n",
       " 358: 199.53,\n",
       " 359: 213.53999999999999,\n",
       " 360: 221.28999999999999,\n",
       " 361: 216.28,\n",
       " 362: 216.91999999999999,\n",
       " 363: 216.53,\n",
       " 364: 213.19999999999999,\n",
       " 365: 216.11000000000001,\n",
       " 366: 200.69,\n",
       " 367: 197.81999999999999,\n",
       " 368: 190.59,\n",
       " 369: 192.36000000000001,\n",
       " 370: 183.78,\n",
       " 371: 184.36000000000001,\n",
       " 372: 179.21000000000001,\n",
       " 373: 181.12,\n",
       " 374: 172.68000000000001,\n",
       " 375: 171.49000000000001,\n",
       " 376: 171.02000000000001,\n",
       " 377: 183.05000000000001,\n",
       " 378: 184.19,\n",
       " 379: 183.11000000000001,\n",
       " 380: 182.56,\n",
       " 381: 188.84999999999999,\n",
       " 382: 188.50999999999999,\n",
       " 383: 194.99000000000001,\n",
       " 384: 181.13,\n",
       " 385: 182.22,\n",
       " 386: 188.03999999999999,\n",
       " 387: 188.90000000000001,\n",
       " 388: 183.87,\n",
       " 389: 182.03999999999999,\n",
       " 390: 176.75999999999999,\n",
       " 391: 171.33000000000001,\n",
       " 392: 168.58000000000001,\n",
       " 393: 168.36000000000001,\n",
       " 394: 175.40000000000001,\n",
       " 395: 172.08000000000001,\n",
       " 396: 169.22,\n",
       " 397: 169.72999999999999,\n",
       " 398: 173.91999999999999,\n",
       " 399: 169.78999999999999,\n",
       " 400: 169.94,\n",
       " 401: 170.77000000000001,\n",
       " 402: 182.72,\n",
       " 403: 184.66,\n",
       " 404: 188.41,\n",
       " 405: 197.28999999999999,\n",
       " 406: 194.03,\n",
       " 407: 194.80000000000001,\n",
       " 408: 194.66,\n",
       " 409: 201.97,\n",
       " 410: 203.78999999999999,\n",
       " 411: 205.38,\n",
       " 412: 202.88,\n",
       " 413: 207.97999999999999,\n",
       " 414: 204.63,\n",
       " 415: 204.27000000000001,\n",
       " 416: 200.88,\n",
       " 417: 203.21000000000001,\n",
       " 418: 201.91999999999999,\n",
       " 419: 205.03999999999999,\n",
       " 420: 207.28999999999999,\n",
       " 421: 218.33000000000001,\n",
       " 422: 220.03,\n",
       " 423: 213.37,\n",
       " 424: 212.77000000000001,\n",
       " 425: 209.80000000000001,\n",
       " 426: 208.75999999999999,\n",
       " 427: 199.25,\n",
       " 428: 197.19999999999999,\n",
       " 429: 196.88999999999999,\n",
       " 430: 197.18000000000001,\n",
       " 431: 196.94999999999999,\n",
       " 432: 197.19,\n",
       " 433: 204.19999999999999,\n",
       " 434: 201.28999999999999,\n",
       " 435: 193.31,\n",
       " 436: 186.88,\n",
       " 437: 187.91,\n",
       " 438: 185.46000000000001,\n",
       " 439: 187.06,\n",
       " 440: 185.31,\n",
       " 441: 184.81999999999999,\n",
       " 442: 185.28999999999999,\n",
       " 443: 187.59999999999999,\n",
       " 444: 190.43000000000001,\n",
       " 445: 191.30000000000001,\n",
       " 446: 190.47999999999999,\n",
       " 447: 185.78,\n",
       " 448: 185.72,\n",
       " 449: 191.12,\n",
       " 450: 189.53,\n",
       " 451: 187.03,\n",
       " 452: 194.80000000000001,\n",
       " 453: 193.06,\n",
       " 454: 196.44999999999999,\n",
       " 455: 193.09,\n",
       " 456: 190.58000000000001,\n",
       " 457: 193.06999999999999,\n",
       " 458: 192.0,\n",
       " 459: 195.30000000000001,\n",
       " 460: 195.15000000000001,\n",
       " 461: 193.88,\n",
       " 462: 193.38999999999999,\n",
       " 463: 200.86000000000001,\n",
       " 464: 199.78,\n",
       " 465: 202.22999999999999,\n",
       " 466: 201.91,\n",
       " 467: 200.96000000000001,\n",
       " 468: 202.84999999999999,\n",
       " 469: 208.69999999999999,\n",
       " 470: 209.46000000000001,\n",
       " 471: 211.38999999999999,\n",
       " 472: 210.52000000000001,\n",
       " 473: 211.38,\n",
       " 474: 210.00999999999999,\n",
       " 475: 208.88999999999999,\n",
       " 476: 212.06999999999999,\n",
       " 477: 208.41999999999999,\n",
       " 478: 204.21000000000001,\n",
       " 479: 201.55000000000001,\n",
       " 480: 203.74000000000001,\n",
       " 481: 201.31999999999999,\n",
       " 482: 199.30000000000001,\n",
       " 483: 193.37,\n",
       " 484: 194.86000000000001,\n",
       " 485: 195.25,\n",
       " 486: 194.49000000000001,\n",
       " 487: 192.56,\n",
       " 488: 191.00999999999999,\n",
       " 489: 193.87,\n",
       " 490: 193.11000000000001,\n",
       " 491: 187.56999999999999,\n",
       " 492: 183.43000000000001,\n",
       " 493: 187.50999999999999,\n",
       " 494: 186.74000000000001,\n",
       " 495: 188.78999999999999,\n",
       " 496: 190.31,\n",
       " 497: 188.28,\n",
       " 498: 186.91,\n",
       " 499: 184.06999999999999,\n",
       " 500: 184.53,\n",
       " 501: 190.28999999999999,\n",
       " 502: 193.66999999999999,\n",
       " 503: 192.71000000000001,\n",
       " 504: 191.49000000000001,\n",
       " 505: 188.46000000000001,\n",
       " 506: 188.96000000000001,\n",
       " 507: 186.53,\n",
       " 508: 186.68000000000001,\n",
       " 509: 186.44,\n",
       " 510: 190.28,\n",
       " 511: 189.28999999999999,\n",
       " 512: 190.18000000000001,\n",
       " 513: 189.08000000000001,\n",
       " 514: 189.11000000000001,\n",
       " 515: 191.99000000000001,\n",
       " 516: 189.88,\n",
       " 517: 189.06,\n",
       " 518: 188.74000000000001,\n",
       " 519: 191.84999999999999,\n",
       " 520: 195.75,\n",
       " 521: 203.08000000000001,\n",
       " 522: 201.78999999999999,\n",
       " 523: 204.74000000000001,\n",
       " 524: 207.13999999999999,\n",
       " 525: 201.69999999999999,\n",
       " 526: 198.30000000000001,\n",
       " 527: 203.22,\n",
       " 528: 201.69,\n",
       " 529: 201.78999999999999,\n",
       " 530: 203.22999999999999,\n",
       " 531: 201.25999999999999,\n",
       " 532: 201.59,\n",
       " 533: 200.75,\n",
       " 534: 200.52000000000001,\n",
       " 535: 201.81999999999999,\n",
       " 536: 207.63999999999999,\n",
       " 537: 205.69999999999999,\n",
       " 538: 210.03999999999999,\n",
       " 539: 214.28999999999999,\n",
       " 540: 213.11000000000001,\n",
       " 541: 213.03999999999999,\n",
       " 542: 213.50999999999999,\n",
       " 543: 213.44,\n",
       " 544: 210.66,\n",
       " 545: 210.11000000000001,\n",
       " 546: 209.44,\n",
       " 547: 212.81999999999999,\n",
       " 548: 229.61000000000001,\n",
       " 549: 240.15000000000001,\n",
       " 550: 236.41999999999999,\n",
       " 551: 243.06,\n",
       " 552: 242.31,\n",
       " 553: 237.36000000000001,\n",
       " 554: 238.05000000000001,\n",
       " 555: 237.96000000000001,\n",
       " 556: 233.52000000000001,\n",
       " 557: 234.72,\n",
       " 558: 235.66,\n",
       " 559: 238.24000000000001,\n",
       " 560: 236.05000000000001,\n",
       " 561: 237.25999999999999,\n",
       " 562: 236.08000000000001,\n",
       " 563: 236.53999999999999,\n",
       " 564: 240.27000000000001,\n",
       " 565: 244.41,\n",
       " 566: 245.72,\n",
       " 567: 247.69999999999999,\n",
       " 568: 249.15000000000001,\n",
       " 569: 247.28,\n",
       " 570: 254.56999999999999,\n",
       " 571: 253.75,\n",
       " 572: 252.19999999999999,\n",
       " 573: 242.13,\n",
       " 574: 244.50999999999999,\n",
       " 575: 242.08000000000001,\n",
       " 576: 242.16,\n",
       " 577: 240.16,\n",
       " 578: 242.18000000000001,\n",
       " 579: 243.25999999999999,\n",
       " 580: 244.11000000000001,\n",
       " 581: 241.08000000000001,\n",
       " 582: 241.81,\n",
       " 583: 241.72,\n",
       " 584: 240.65000000000001,\n",
       " 585: 239.25999999999999,\n",
       " 586: 240.81999999999999,\n",
       " 587: 239.91,\n",
       " 588: 231.16999999999999,\n",
       " 589: 234.08000000000001,\n",
       " 590: 231.22,\n",
       " 591: 227.87,\n",
       " 592: 227.56,\n",
       " 593: 228.53999999999999,\n",
       " 594: 233.78,\n",
       " 595: 231.05000000000001,\n",
       " 596: 230.00999999999999,\n",
       " 597: 233.56,\n",
       " 598: 241.38999999999999,\n",
       " 599: 243.34999999999999,\n",
       " 600: 241.55000000000001,\n",
       " 601: 242.50999999999999,\n",
       " 602: 244.49000000000001,\n",
       " 603: 249.61000000000001,\n",
       " 604: 252.25,\n",
       " 605: 251.88999999999999,\n",
       " 606: 248.38999999999999,\n",
       " 607: 243.66999999999999,\n",
       " 608: 244.63,\n",
       " 609: 240.18000000000001,\n",
       " 610: 239.28999999999999,\n",
       " 611: 249.28,\n",
       " 612: 243.80000000000001,\n",
       " 613: 247.66999999999999,\n",
       " 614: 245.99000000000001,\n",
       " 615: 246.91,\n",
       " 616: 250.5,\n",
       " 617: 240.63,\n",
       " 618: 240.50999999999999,\n",
       " 619: 233.34999999999999,\n",
       " 620: 235.5,\n",
       " 621: 234.77000000000001,\n",
       " 622: 235.28,\n",
       " 623: 230.71000000000001,\n",
       " 624: 228.91999999999999,\n",
       " 625: 229.31999999999999,\n",
       " 626: 232.72999999999999,\n",
       " 627: 230.5,\n",
       " 628: 234.74000000000001,\n",
       " 629: 235.81,\n",
       " 630: 237.69,\n",
       " 631: 237.69,\n",
       " 632: 235.06999999999999,\n",
       " 633: 232.22999999999999,\n",
       " 634: 224.16,\n",
       " 635: 224.5,\n",
       " 636: 223.88999999999999,\n",
       " 637: 219.12,\n",
       " 638: 220.25,\n",
       " 639: 228.55000000000001,\n",
       " 640: 227.59,\n",
       " 641: 227.13,\n",
       " 642: 226.25,\n",
       " 643: 227.15000000000001,\n",
       " 644: 221.28999999999999,\n",
       " 645: 223.78,\n",
       " 646: 222.87,\n",
       " 647: 220.19999999999999,\n",
       " 648: 223.38999999999999,\n",
       " 649: 222.41999999999999,\n",
       " 650: 228.05000000000001,\n",
       " 651: 230.78999999999999,\n",
       " 652: 230.68000000000001,\n",
       " 653: 232.27000000000001,\n",
       " 654: 231.58000000000001,\n",
       " 655: 230.71000000000001,\n",
       " 656: 230.22999999999999,\n",
       " 657: 228.84999999999999,\n",
       " 658: 229.03999999999999,\n",
       " 659: 236.06,\n",
       " 660: 235.27000000000001,\n",
       " 661: 235.52000000000001,\n",
       " 662: 233.87,\n",
       " 663: 233.02000000000001,\n",
       " 664: 232.03,\n",
       " 665: 233.46000000000001,\n",
       " 666: 232.91,\n",
       " 667: 236.90000000000001,\n",
       " 668: 236.16,\n",
       " 669: 237.77000000000001,\n",
       " 670: 235.59,\n",
       " 671: 241.0,\n",
       " 672: 239.30000000000001,\n",
       " 673: 238.53,\n",
       " 674: 238.75999999999999,\n",
       " 675: 240.34999999999999,\n",
       " 676: 239.27000000000001,\n",
       " 677: 235.44999999999999,\n",
       " 678: 234.27000000000001,\n",
       " 679: 232.66,\n",
       " 680: 236.38,\n",
       " 681: 235.31999999999999,\n",
       " 682: 233.40000000000001,\n",
       " 683: 233.16999999999999,\n",
       " 684: 234.38999999999999,\n",
       " 685: 230.5,\n",
       " 686: 233.13999999999999,\n",
       " 687: 230.66,\n",
       " 688: 228.77000000000001,\n",
       " 689: 236.06999999999999,\n",
       " 690: 235.24000000000001,\n",
       " 691: 234.91999999999999,\n",
       " 692: 235.06,\n",
       " 693: 237.69,\n",
       " 694: 236.75,\n",
       " 695: 236.93000000000001,\n",
       " 696: 241.52000000000001,\n",
       " 697: 243.31,\n",
       " 698: 249.05000000000001,\n",
       " 699: 248.71000000000001,\n",
       " 700: 249.94999999999999,\n",
       " 701: 253.28,\n",
       " 702: 259.16000000000003,\n",
       " 703: 258.87,\n",
       " 704: 257.26999999999998,\n",
       " 705: 257.49000000000001,\n",
       " 706: 255.41,\n",
       " 707: 252.13,\n",
       " 708: 252.37,\n",
       " 709: 251.16999999999999,\n",
       " 710: 252.69,\n",
       " 711: 257.33999999999997,\n",
       " 712: 256.89999999999998,\n",
       " 713: 254.72999999999999,\n",
       " 714: 256.80000000000001,\n",
       " 715: 262.23000000000002,\n",
       " 716: 263.44999999999999,\n",
       " 717: 264.86000000000001,\n",
       " 718: 262.88,\n",
       " 719: 262.24000000000001,\n",
       " 720: 261.08999999999997,\n",
       " 721: 264.92000000000002,\n",
       " 722: 266.89999999999998,\n",
       " 723: 270.54000000000002,\n",
       " 724: 269.43000000000001,\n",
       " 725: 271.00999999999999,\n",
       " 726: 271.39999999999998,\n",
       " 727: 271.95999999999998,\n",
       " 728: 272.38999999999999,\n",
       " 729: 275.80000000000001,\n",
       " 730: 276.22000000000003,\n",
       " 731: 277.22000000000003,\n",
       " 732: 274.48000000000002,\n",
       " 733: 274.01999999999998,\n",
       " 734: 259.80000000000001,\n",
       " 735: 256.0,\n",
       " 736: 256.74000000000001,\n",
       " 737: 254.63,\n",
       " 738: 253.75,\n",
       " 739: 255.69,\n",
       " 740: 257.80000000000001,\n",
       " 741: 254.74000000000001,\n",
       " 742: 256.20999999999998,\n",
       " 743: 255.25,\n",
       " 744: 251.25,\n",
       " 745: 254.74000000000001,\n",
       " 746: 257.75,\n",
       " 747: 262.63,\n",
       " 748: 257.11000000000001,\n",
       " 749: 257.62,\n",
       " 750: 257.49000000000001,\n",
       " 751: 254.05000000000001,\n",
       " 752: 248.53,\n",
       " 753: 245.50999999999999,\n",
       " 754: 249.77000000000001,\n",
       " 755: 248.71000000000001,\n",
       " 756: 253.05000000000001,\n",
       " 757: 256.12,\n",
       " 758: 255.84,\n",
       " 759: 257.24000000000001,\n",
       " 760: 256.37,\n",
       " 761: 252.94999999999999,\n",
       " 762: 256.18000000000001,\n",
       " 763: 255.44,\n",
       " 764: 257.37,\n",
       " 765: 262.31,\n",
       " 766: 263.63999999999999,\n",
       " 767: 261.5,\n",
       " 768: 259.42000000000002,\n",
       " 769: 256.98000000000002,\n",
       " 770: 260.39999999999998,\n",
       " 771: 261.06,\n",
       " 772: 262.13,\n",
       " 773: 264.11000000000001,\n",
       " 774: 262.38999999999999,\n",
       " 775: 267.37,\n",
       " 776: 273.14999999999998,\n",
       " 777: 276.13999999999999,\n",
       " 778: 279.76999999999998,\n",
       " 779: 283.73000000000002,\n",
       " 780: 284.22000000000003,\n",
       " 781: 283.80000000000001,\n",
       " 782: 283.47000000000003,\n",
       " 783: 283.35000000000002,\n",
       " 784: 290.98000000000002,\n",
       " 785: 291.89999999999998,\n",
       " 786: 291.72000000000003,\n",
       " 787: 289.23000000000002,\n",
       " 788: 296.73000000000002,\n",
       " 789: 304.50999999999999,\n",
       " 790: 307.27999999999997,\n",
       " 791: 312.38,\n",
       " 792: 310.69,\n",
       " 793: 318.38,\n",
       " 794: 309.74000000000001,\n",
       " 795: 307.69,\n",
       " 796: 316.42000000000002,\n",
       " 797: 319.49000000000001,\n",
       " 798: 322.02999999999997,\n",
       " 799: 325.05000000000001,\n",
       " 800: 337.55000000000001,\n",
       " 801: 337.56999999999999,\n",
       " 802: 333.92000000000002,\n",
       " 803: 336.95999999999998,\n",
       " 804: 339.27999999999997,\n",
       " 805: 347.04000000000002,\n",
       " 806: 353.14999999999998,\n",
       " 807: 351.25,\n",
       " 808: 355.26999999999998,\n",
       " 809: 362.45999999999998,\n",
       " 810: 370.51999999999998,\n",
       " 811: 366.10000000000002,\n",
       " 812: 346.56999999999999,\n",
       " 813: 331.64999999999998,\n",
       " 814: 315.72000000000003,\n",
       " 815: 329.94,\n",
       " 816: 320.51999999999998,\n",
       " 817: 314.50999999999999,\n",
       " 818: 316.5,\n",
       " 819: 312.61000000000001,\n",
       " 820: 323.94999999999999,\n",
       " 821: 329.93000000000001,\n",
       " 822: 338.00999999999999,\n",
       " 823: 332.69999999999999,\n",
       " 824: 336.44999999999999,\n",
       " 825: 345.77999999999997,\n",
       " 826: 348.14999999999998,\n",
       " 827: 346.14999999999998,\n",
       " 828: 340.42000000000002,\n",
       " 829: 341.74000000000001,\n",
       " 830: 348.91000000000003,\n",
       " 831: 357.26999999999998,\n",
       " 832: 357.07999999999998,\n",
       " 833: 358.85000000000002,\n",
       " 834: 349.25,\n",
       " 835: 349.32999999999998,\n",
       " 836: 346.68000000000001,\n",
       " 837: 344.63999999999999,\n",
       " 838: 334.27999999999997,\n",
       " 839: 336.33999999999997,\n",
       " 840: 338.35000000000002,\n",
       " 841: 344.5,\n",
       " 842: 348.0,\n",
       " 843: 350.00999999999999,\n",
       " 844: 355.06,\n",
       " 845: 350.01999999999998,\n",
       " 846: 350.91000000000003,\n",
       " 847: 345.38999999999999,\n",
       " 848: 342.25,\n",
       " 849: 342.31999999999999,\n",
       " 850: 328.17000000000002,\n",
       " 851: 324.30000000000001,\n",
       " 852: 315.51999999999998,\n",
       " 853: 326.26999999999998,\n",
       " 854: 323.04000000000002,\n",
       " 855: 318.81,\n",
       " 856: 326.57999999999998,\n",
       " 857: 318.50999999999999,\n",
       " 858: 307.67000000000002,\n",
       " 859: 300.08999999999997,\n",
       " 860: 299.81999999999999,\n",
       " 861: 291.88,\n",
       " 862: 274.04000000000002,\n",
       " 863: 286.95999999999998,\n",
       " 864: 282.92000000000002,\n",
       " 865: 277.70999999999998,\n",
       " 866: 274.98000000000002,\n",
       " 867: 273.86000000000001,\n",
       " 868: 281.87,\n",
       " 869: 257.69,\n",
       " 870: 247.47,\n",
       " 871: 253.15000000000001,\n",
       " 872: 250.59999999999999,\n",
       " 873: 252.22,\n",
       " 874: 258.08999999999997,\n",
       " 875: 260.31999999999999,\n",
       " 876: 258.79000000000002,\n",
       " 877: 267.04000000000002,\n",
       " 878: 265.86000000000001,\n",
       " 879: 264.56,\n",
       " 880: 254.22,\n",
       " 881: 254.25,\n",
       " 882: 251.18000000000001,\n",
       " 883: 253.65000000000001,\n",
       " 884: 242.97999999999999,\n",
       " 885: 231.86000000000001,\n",
       " 886: 236.19,\n",
       " 887: 237.46000000000001,\n",
       " 888: 235.34999999999999,\n",
       " 889: 228.28,\n",
       " 890: 222.08000000000001,\n",
       " 891: 223.63,\n",
       " 892: 216.13,\n",
       " 893: 216.46000000000001,\n",
       " 894: 206.59999999999999,\n",
       " 895: 219.69999999999999,\n",
       " 896: 219.87,\n",
       " 897: 221.28,\n",
       " 898: 218.74000000000001,\n",
       " 899: 209.72999999999999,\n",
       " 900: 219.36000000000001,\n",
       " 901: 215.78,\n",
       " 902: 216.56,\n",
       " 903: 230.05000000000001,\n",
       " 904: 225.16,\n",
       " 905: 228.87,\n",
       " 906: 221.81999999999999,\n",
       " 907: 218.81999999999999,\n",
       " 908: 220.00999999999999,\n",
       " 909: 232.62,\n",
       " 910: 232.62,\n",
       " 911: 227.33000000000001,\n",
       " 912: 235.31,\n",
       " 913: 238.16999999999999,\n",
       " 914: 233.66999999999999,\n",
       " 915: 231.86000000000001,\n",
       " 916: 234.30000000000001,\n",
       " 917: 228.5,\n",
       " 918: 225.59999999999999,\n",
       " 919: 223.19999999999999,\n",
       " 920: 227.28999999999999,\n",
       " 921: 224.55000000000001,\n",
       " 922: 269.44,\n",
       " 923: 268.63,\n",
       " 924: 277.22000000000003,\n",
       " 925: 272.97000000000003,\n",
       " 926: 271.25,\n",
       " 927: 271.75999999999999,\n",
       " 928: 275.77999999999997,\n",
       " 929: 278.95999999999998,\n",
       " 930: 286.86000000000001,\n",
       " 931: 296.24000000000001,\n",
       " 932: 290.35000000000002,\n",
       " 933: 297.14999999999998,\n",
       " 934: 292.88999999999999,\n",
       " 935: 289.20999999999998,\n",
       " 936: 291.20999999999998,\n",
       " 937: 286.30000000000001,\n",
       " 938: 292.18000000000001,\n",
       " 939: 291.20999999999998,\n",
       " 940: 287.86000000000001,\n",
       " 941: 290.20999999999998,\n",
       " 942: 289.74000000000001,\n",
       " 943: 288.47000000000003,\n",
       " 944: 289.00999999999999,\n",
       " 945: 274.72000000000003,\n",
       " 946: 274.45999999999998,\n",
       " 947: 272.04000000000002,\n",
       " 948: 280.17000000000002,\n",
       " 949: 283.83999999999997,\n",
       " 950: 291.20999999999998,\n",
       " 951: 292.61000000000001,\n",
       " 952: 287.20999999999998,\n",
       " 953: 283.37,\n",
       " 954: 285.81999999999999,\n",
       " 955: 292.86000000000001,\n",
       " 956: 283.22000000000003,\n",
       " 957: 278.66000000000003,\n",
       " 958: 276.81,\n",
       " 959: 272.32999999999998,\n",
       " 960: 276.19999999999999,\n",
       " 961: 285.47000000000003,\n",
       " 962: 286.12,\n",
       " 963: 284.44999999999999,\n",
       " 964: 280.91000000000003,\n",
       " 965: 279.81999999999999,\n",
       " 966: 272.94,\n",
       " 967: 272.32999999999998,\n",
       " 968: 270.88,\n",
       " 969: 275.22000000000003,\n",
       " 970: 264.14999999999998,\n",
       " 971: 263.76999999999998,\n",
       " 972: 262.94999999999999,\n",
       " 973: 267.10000000000002,\n",
       " 974: 263.25999999999999,\n",
       " 975: 268.23000000000002,\n",
       " 976: 271.68000000000001,\n",
       " 977: 276.99000000000001,\n",
       " 978: 270.5,\n",
       " 979: 270.01999999999998,\n",
       " 980: 266.63,\n",
       " 981: 260.55000000000001,\n",
       " 982: 257.79000000000002,\n",
       " 983: 267.52999999999997,\n",
       " 984: 266.44999999999999,\n",
       " 985: 240.41999999999999,\n",
       " 986: 234.16999999999999,\n",
       " 987: 238.31999999999999,\n",
       " 988: 244.37,\n",
       " 989: 237.56999999999999,\n",
       " 990: 245.74000000000001,\n",
       " 991: 238.31999999999999,\n",
       " 992: 241.31,\n",
       " 993: 241.11000000000001,\n",
       " 994: 236.63999999999999,\n",
       " 995: 233.69999999999999,\n",
       " 996: 231.27000000000001,\n",
       " 997: 239.69,\n",
       " 998: 242.93000000000001,\n",
       " 999: 239.31999999999999,\n",
       " ...}"
      ]
     },
     "execution_count": 26,
     "metadata": {},
     "output_type": "execute_result"
    }
   ],
   "source": [
    "dict(google)"
   ]
  },
  {
   "cell_type": "code",
   "execution_count": 27,
   "metadata": {},
   "outputs": [
    {
     "data": {
      "text/plain": [
       "49.950000000000003"
      ]
     },
     "execution_count": 27,
     "metadata": {},
     "output_type": "execute_result"
    }
   ],
   "source": [
    "max(pokemon)\n",
    "min(google)"
   ]
  },
  {
   "cell_type": "markdown",
   "metadata": {},
   "source": [
    "# More `Series` Attributes"
   ]
  },
  {
   "cell_type": "code",
   "execution_count": 28,
   "metadata": {},
   "outputs": [
    {
     "data": {
      "text/plain": [
       "array([  50.12,   54.1 ,   54.65, ...,  773.18,  771.61,  782.22])"
      ]
     },
     "execution_count": 28,
     "metadata": {},
     "output_type": "execute_result"
    }
   ],
   "source": [
    "pokemon.values\n",
    "google.values"
   ]
  },
  {
   "cell_type": "code",
   "execution_count": 29,
   "metadata": {},
   "outputs": [
    {
     "data": {
      "text/plain": [
       "RangeIndex(start=0, stop=721, step=1)"
      ]
     },
     "execution_count": 29,
     "metadata": {},
     "output_type": "execute_result"
    }
   ],
   "source": [
    "pokemon.index"
   ]
  },
  {
   "cell_type": "code",
   "execution_count": 30,
   "metadata": {},
   "outputs": [
    {
     "data": {
      "text/plain": [
       "dtype('O')"
      ]
     },
     "execution_count": 30,
     "metadata": {},
     "output_type": "execute_result"
    }
   ],
   "source": [
    "pokemon.dtype"
   ]
  },
  {
   "cell_type": "code",
   "execution_count": 31,
   "metadata": {},
   "outputs": [
    {
     "data": {
      "text/plain": [
       "False"
      ]
     },
     "execution_count": 31,
     "metadata": {},
     "output_type": "execute_result"
    }
   ],
   "source": [
    "pokemon.is_unique\n",
    "google.is_unique"
   ]
  },
  {
   "cell_type": "code",
   "execution_count": 32,
   "metadata": {},
   "outputs": [
    {
     "data": {
      "text/plain": [
       "1"
      ]
     },
     "execution_count": 32,
     "metadata": {},
     "output_type": "execute_result"
    }
   ],
   "source": [
    "# number of dimensions of the underlying data\n",
    "pokemon.ndim"
   ]
  },
  {
   "cell_type": "code",
   "execution_count": 33,
   "metadata": {},
   "outputs": [
    {
     "data": {
      "text/plain": [
       "(721,)"
      ]
     },
     "execution_count": 33,
     "metadata": {},
     "output_type": "execute_result"
    }
   ],
   "source": [
    "pokemon.shape"
   ]
  },
  {
   "cell_type": "code",
   "execution_count": 34,
   "metadata": {},
   "outputs": [
    {
     "data": {
      "text/plain": [
       "721"
      ]
     },
     "execution_count": 34,
     "metadata": {},
     "output_type": "execute_result"
    }
   ],
   "source": [
    "pokemon.size"
   ]
  },
  {
   "cell_type": "code",
   "execution_count": 35,
   "metadata": {
    "collapsed": true
   },
   "outputs": [],
   "source": [
    "pokemon.name = 'Pocket Monsters'\n",
    "# we can modify it"
   ]
  },
  {
   "cell_type": "code",
   "execution_count": 36,
   "metadata": {},
   "outputs": [
    {
     "data": {
      "text/plain": [
       "0     Bulbasaur\n",
       "1       Ivysaur\n",
       "2      Venusaur\n",
       "3    Charmander\n",
       "4    Charmeleon\n",
       "Name: Pocket Monsters, dtype: object"
      ]
     },
     "execution_count": 36,
     "metadata": {},
     "output_type": "execute_result"
    }
   ],
   "source": [
    "pokemon.head()"
   ]
  },
  {
   "cell_type": "markdown",
   "metadata": {
    "collapsed": true
   },
   "source": [
    "# The `.sort_values()` Method"
   ]
  },
  {
   "cell_type": "code",
   "execution_count": 37,
   "metadata": {},
   "outputs": [
    {
     "data": {
      "text/plain": [
       "717       Zygarde\n",
       "633      Zweilous\n",
       "40          Zubat\n",
       "569         Zorua\n",
       "570       Zoroark\n",
       "262     Zigzagoon\n",
       "643        Zekrom\n",
       "522     Zebstrika\n",
       "144        Zapdos\n",
       "334      Zangoose\n",
       "716       Yveltal\n",
       "468       Yanmega\n",
       "192         Yanma\n",
       "561        Yamask\n",
       "715       Xerneas\n",
       "177          Xatu\n",
       "359        Wynaut\n",
       "264       Wurmple\n",
       "412      Wormadam\n",
       "193        Wooper\n",
       "526        Woobat\n",
       "201     Wobbuffet\n",
       "277       Wingull\n",
       "39     Wigglytuff\n",
       "292       Whismur\n",
       "339      Whiscash\n",
       "543    Whirlipede\n",
       "546    Whimsicott\n",
       "109       Weezing\n",
       "69     Weepinbell\n",
       "          ...    \n",
       "609          Axew\n",
       "712       Avalugg\n",
       "698       Aurorus\n",
       "530        Audino\n",
       "143      Articuno\n",
       "303          Aron\n",
       "682    Aromatisse\n",
       "347       Armaldo\n",
       "167       Ariados\n",
       "566      Archeops\n",
       "565        Archen\n",
       "492        Arceus\n",
       "58       Arcanine\n",
       "23          Arbok\n",
       "346       Anorith\n",
       "180      Ampharos\n",
       "590     Amoonguss\n",
       "423       Ambipom\n",
       "697        Amaura\n",
       "333       Altaria\n",
       "593     Alomomola\n",
       "64       Alakazam\n",
       "189         Aipom\n",
       "305        Aggron\n",
       "141    Aerodactyl\n",
       "680     Aegislash\n",
       "616      Accelgor\n",
       "358         Absol\n",
       "62           Abra\n",
       "459     Abomasnow\n",
       "Name: Pocket Monsters, Length: 721, dtype: object"
      ]
     },
     "execution_count": 37,
     "metadata": {},
     "output_type": "execute_result"
    }
   ],
   "source": [
    "# descending sorting\n",
    "pokemon.sort_values(ascending=False)"
   ]
  },
  {
   "cell_type": "code",
   "execution_count": 38,
   "metadata": {},
   "outputs": [
    {
     "data": {
      "text/plain": [
       "717    Zygarde\n",
       "Name: Pocket Monsters, dtype: object"
      ]
     },
     "execution_count": 38,
     "metadata": {},
     "output_type": "execute_result"
    }
   ],
   "source": [
    "pokemon.sort_values(ascending=False).head(1)"
   ]
  },
  {
   "cell_type": "markdown",
   "metadata": {},
   "source": [
    "# The `inplace` Parameter"
   ]
  },
  {
   "cell_type": "code",
   "execution_count": 39,
   "metadata": {
    "collapsed": true
   },
   "outputs": [],
   "source": [
    "# google = google.sort_values()\n",
    "# google.sort_values(inplace=True)"
   ]
  },
  {
   "cell_type": "code",
   "execution_count": 40,
   "metadata": {},
   "outputs": [
    {
     "data": {
      "text/plain": [
       "0    50.12\n",
       "1    54.10\n",
       "2    54.65\n",
       "Name: Stock Price, dtype: float64"
      ]
     },
     "execution_count": 40,
     "metadata": {},
     "output_type": "execute_result"
    }
   ],
   "source": [
    "google.head(3)"
   ]
  },
  {
   "cell_type": "code",
   "execution_count": 41,
   "metadata": {},
   "outputs": [
    {
     "data": {
      "text/plain": [
       "3011    782.22\n",
       "2859    776.60\n",
       "3009    773.18\n",
       "Name: Stock Price, dtype: float64"
      ]
     },
     "execution_count": 41,
     "metadata": {},
     "output_type": "execute_result"
    }
   ],
   "source": [
    "google.sort_values(ascending=False, inplace=True)\n",
    "google.head(3)"
   ]
  },
  {
   "cell_type": "markdown",
   "metadata": {},
   "source": [
    "# The `.sort_index()` Method"
   ]
  },
  {
   "cell_type": "code",
   "execution_count": 42,
   "metadata": {
    "collapsed": true
   },
   "outputs": [],
   "source": [
    "pokemon = pd.read_csv('datasets/pokemon.csv', usecols=['Pokemon'], squeeze=True)\n",
    "google = pd.read_csv('datasets/google_stock_price.csv', squeeze=True)"
   ]
  },
  {
   "cell_type": "code",
   "execution_count": 43,
   "metadata": {},
   "outputs": [
    {
     "data": {
      "text/plain": [
       "717     Zygarde\n",
       "633    Zweilous\n",
       "40        Zubat\n",
       "Name: Pokemon, dtype: object"
      ]
     },
     "execution_count": 43,
     "metadata": {},
     "output_type": "execute_result"
    }
   ],
   "source": [
    "pokemon.sort_values(ascending=False, inplace=True)\n",
    "pokemon.head(3)"
   ]
  },
  {
   "cell_type": "code",
   "execution_count": 44,
   "metadata": {
    "collapsed": true
   },
   "outputs": [],
   "source": [
    "pokemon.sort_index(inplace=True)"
   ]
  },
  {
   "cell_type": "code",
   "execution_count": 45,
   "metadata": {},
   "outputs": [
    {
     "data": {
      "text/plain": [
       "0    Bulbasaur\n",
       "1      Ivysaur\n",
       "2     Venusaur\n",
       "Name: Pokemon, dtype: object"
      ]
     },
     "execution_count": 45,
     "metadata": {},
     "output_type": "execute_result"
    }
   ],
   "source": [
    "pokemon.head(3)"
   ]
  },
  {
   "cell_type": "markdown",
   "metadata": {},
   "source": [
    "# Python's `in` Keyword"
   ]
  },
  {
   "cell_type": "code",
   "execution_count": 46,
   "metadata": {
    "collapsed": true
   },
   "outputs": [],
   "source": [
    "pokemon = pd.read_csv('datasets/pokemon.csv', usecols=['Pokemon'], squeeze=True)\n",
    "google = pd.read_csv('datasets/google_stock_price.csv', squeeze=True)"
   ]
  },
  {
   "cell_type": "code",
   "execution_count": 47,
   "metadata": {},
   "outputs": [
    {
     "data": {
      "text/plain": [
       "True"
      ]
     },
     "execution_count": 47,
     "metadata": {},
     "output_type": "execute_result"
    }
   ],
   "source": [
    "3 in [1, 2, 3, 4, 5]"
   ]
  },
  {
   "cell_type": "code",
   "execution_count": 48,
   "metadata": {},
   "outputs": [
    {
     "data": {
      "text/plain": [
       "0    Bulbasaur\n",
       "1      Ivysaur\n",
       "2     Venusaur\n",
       "Name: Pokemon, dtype: object"
      ]
     },
     "execution_count": 48,
     "metadata": {},
     "output_type": "execute_result"
    }
   ],
   "source": [
    "pokemon.head(3)"
   ]
  },
  {
   "cell_type": "code",
   "execution_count": 49,
   "metadata": {},
   "outputs": [
    {
     "data": {
      "text/plain": [
       "False"
      ]
     },
     "execution_count": 49,
     "metadata": {},
     "output_type": "execute_result"
    }
   ],
   "source": [
    "'Bulbasaur' in pokemon\n",
    "# it's looking through indexes, same happens with Python dicts, then it checks whether the key exists"
   ]
  },
  {
   "cell_type": "code",
   "execution_count": 50,
   "metadata": {},
   "outputs": [
    {
     "data": {
      "text/plain": [
       "True"
      ]
     },
     "execution_count": 50,
     "metadata": {},
     "output_type": "execute_result"
    }
   ],
   "source": [
    "100 in pokemon\n",
    "100 in pokemon.index"
   ]
  },
  {
   "cell_type": "code",
   "execution_count": 51,
   "metadata": {},
   "outputs": [
    {
     "data": {
      "text/plain": [
       "RangeIndex(start=0, stop=721, step=1)"
      ]
     },
     "execution_count": 51,
     "metadata": {},
     "output_type": "execute_result"
    }
   ],
   "source": [
    "pokemon.index"
   ]
  },
  {
   "cell_type": "code",
   "execution_count": 52,
   "metadata": {},
   "outputs": [
    {
     "data": {
      "text/plain": [
       "RangeIndex(start=0, stop=3012, step=1)"
      ]
     },
     "execution_count": 52,
     "metadata": {},
     "output_type": "execute_result"
    }
   ],
   "source": [
    "google.index"
   ]
  },
  {
   "cell_type": "code",
   "execution_count": 53,
   "metadata": {},
   "outputs": [
    {
     "data": {
      "text/plain": [
       "True"
      ]
     },
     "execution_count": 53,
     "metadata": {},
     "output_type": "execute_result"
    }
   ],
   "source": [
    "'Bulbasaur' in pokemon.values # checking among the values of a series"
   ]
  },
  {
   "cell_type": "markdown",
   "metadata": {},
   "source": [
    "# Extract Values by Index Position"
   ]
  },
  {
   "cell_type": "code",
   "execution_count": 54,
   "metadata": {},
   "outputs": [
    {
     "data": {
      "text/plain": [
       "'Oshawott'"
      ]
     },
     "execution_count": 54,
     "metadata": {},
     "output_type": "execute_result"
    }
   ],
   "source": [
    "pokemon[500]"
   ]
  },
  {
   "cell_type": "code",
   "execution_count": 55,
   "metadata": {},
   "outputs": [
    {
     "data": {
      "text/plain": [
       "100    Electrode\n",
       "200        Unown\n",
       "300     Delcatty\n",
       "Name: Pokemon, dtype: object"
      ]
     },
     "execution_count": 55,
     "metadata": {},
     "output_type": "execute_result"
    }
   ],
   "source": [
    "pokemon[[100, 200, 300]]\n",
    "# returns a brand new Series"
   ]
  },
  {
   "cell_type": "code",
   "execution_count": 56,
   "metadata": {},
   "outputs": [
    {
     "data": {
      "text/plain": [
       "50       Dugtrio\n",
       "54       Golduck\n",
       "58      Arcanine\n",
       "62          Abra\n",
       "66       Machoke\n",
       "70    Victreebel\n",
       "74      Graveler\n",
       "78      Slowpoke\n",
       "82    Farfetch'd\n",
       "86       Dewgong\n",
       "90      Cloyster\n",
       "94          Onix\n",
       "98       Kingler\n",
       "Name: Pokemon, dtype: object"
      ]
     },
     "execution_count": 56,
     "metadata": {},
     "output_type": "execute_result"
    }
   ],
   "source": [
    "# slicing\n",
    "pokemon[50:100:4]"
   ]
  },
  {
   "cell_type": "markdown",
   "metadata": {},
   "source": [
    "# Extract Values by Index Label"
   ]
  },
  {
   "cell_type": "code",
   "execution_count": 57,
   "metadata": {
    "collapsed": true
   },
   "outputs": [],
   "source": [
    "pokemon = pd.read_csv('datasets/pokemon.csv', index_col='Pokemon', squeeze=True)"
   ]
  },
  {
   "cell_type": "code",
   "execution_count": 58,
   "metadata": {},
   "outputs": [
    {
     "data": {
      "text/plain": [
       "Pokemon\n",
       "Electrode    Electric\n",
       "Jolteon      Electric\n",
       "Name: Type, dtype: object"
      ]
     },
     "execution_count": 58,
     "metadata": {},
     "output_type": "execute_result"
    }
   ],
   "source": [
    "pokemon[[100, 134]]"
   ]
  },
  {
   "cell_type": "code",
   "execution_count": 59,
   "metadata": {},
   "outputs": [
    {
     "data": {
      "text/plain": [
       "Pokemon\n",
       "Pikachu    Electric\n",
       "Digimon         NaN\n",
       "Name: Type, dtype: object"
      ]
     },
     "execution_count": 59,
     "metadata": {},
     "output_type": "execute_result"
    }
   ],
   "source": [
    "pokemon['Bulbasaur']\n",
    "pokemon['Ditto']\n",
    "pokemon[['Ditto', 'Jolteon', 'Blastoise']]\n",
    "\n",
    "# pokemon['Digimon'] # gives IndexError\n",
    "pokemon[['Pikachu', 'Digimon']] # no error, NaN value if the element doesn't exist"
   ]
  },
  {
   "cell_type": "code",
   "execution_count": 60,
   "metadata": {},
   "outputs": [
    {
     "data": {
      "text/plain": [
       "Pokemon\n",
       "Bulbasaur        Grass\n",
       "Ivysaur          Grass\n",
       "Venusaur         Grass\n",
       "Charmander        Fire\n",
       "Charmeleon        Fire\n",
       "Charizard         Fire\n",
       "Squirtle         Water\n",
       "Wartortle        Water\n",
       "Blastoise        Water\n",
       "Caterpie           Bug\n",
       "Metapod            Bug\n",
       "Butterfree         Bug\n",
       "Weedle             Bug\n",
       "Kakuna             Bug\n",
       "Beedrill           Bug\n",
       "Pidgey          Normal\n",
       "Pidgeotto       Normal\n",
       "Pidgeot         Normal\n",
       "Rattata         Normal\n",
       "Raticate        Normal\n",
       "Spearow         Normal\n",
       "Fearow          Normal\n",
       "Ekans           Poison\n",
       "Arbok           Poison\n",
       "Pikachu       Electric\n",
       "Name: Type, dtype: object"
      ]
     },
     "execution_count": 60,
     "metadata": {},
     "output_type": "execute_result"
    }
   ],
   "source": [
    "pokemon['Bulbasaur':'Pikachu'] # slicing :D\n",
    "# Pikachu will be included in this kind of slicing"
   ]
  },
  {
   "cell_type": "markdown",
   "metadata": {},
   "source": [
    "# The `.get()` Method on a `Series`"
   ]
  },
  {
   "cell_type": "code",
   "execution_count": 61,
   "metadata": {
    "collapsed": true
   },
   "outputs": [],
   "source": [
    "pokemon = pd.read_csv('datasets/pokemon.csv', index_col='Pokemon', squeeze=True)\n",
    "pokemon.sort_index(inplace=True) # sorting indexes makes lookups faster"
   ]
  },
  {
   "cell_type": "code",
   "execution_count": 62,
   "metadata": {},
   "outputs": [
    {
     "data": {
      "text/plain": [
       "Pokemon\n",
       "Abomasnow      Grass\n",
       "Abra         Psychic\n",
       "Absol           Dark\n",
       "Name: Type, dtype: object"
      ]
     },
     "execution_count": 62,
     "metadata": {},
     "output_type": "execute_result"
    }
   ],
   "source": [
    "pokemon.head(3)"
   ]
  },
  {
   "cell_type": "code",
   "execution_count": 63,
   "metadata": {},
   "outputs": [
    {
     "data": {
      "text/plain": [
       "Pokemon\n",
       "Moltres      Fire\n",
       "Meowth     Normal\n",
       "Name: Type, dtype: object"
      ]
     },
     "execution_count": 63,
     "metadata": {},
     "output_type": "execute_result"
    }
   ],
   "source": [
    "pokemon.get('Moltres')\n",
    "pokemon.get(['Moltres', 'Meowth']) # returns a new Series"
   ]
  },
  {
   "cell_type": "code",
   "execution_count": 64,
   "metadata": {},
   "outputs": [
    {
     "data": {
      "text/plain": [
       "'This is not a Pokemon'"
      ]
     },
     "execution_count": 64,
     "metadata": {},
     "output_type": "execute_result"
    }
   ],
   "source": [
    "pokemon.get('Digimon', 'This is not a Pokemon')"
   ]
  },
  {
   "cell_type": "code",
   "execution_count": 65,
   "metadata": {},
   "outputs": [
    {
     "data": {
      "text/plain": [
       "Pokemon\n",
       "Charizard    Fire\n",
       "Digimon       NaN\n",
       "Name: Type, dtype: object"
      ]
     },
     "execution_count": 65,
     "metadata": {},
     "output_type": "execute_result"
    }
   ],
   "source": [
    "# however\n",
    "pokemon.get(['Charizard', 'Digimon'], 'This is not a Pokemon')\n",
    "# still Nan as a value of nonexisting IndexLabel"
   ]
  },
  {
   "cell_type": "markdown",
   "metadata": {},
   "source": [
    "# Math Methods on `Series` Object"
   ]
  },
  {
   "cell_type": "code",
   "execution_count": 66,
   "metadata": {},
   "outputs": [
    {
     "data": {
      "text/plain": [
       "0      NaN\n",
       "1    54.10\n",
       "2    54.65\n",
       "Name: Stock Price, dtype: float64"
      ]
     },
     "execution_count": 66,
     "metadata": {},
     "output_type": "execute_result"
    }
   ],
   "source": [
    "google_1 = pd.read_csv('datasets/google_stock_price.csv', squeeze=True)\n",
    "google_1[0] = np.NaN\n",
    "google_1.head(3)"
   ]
  },
  {
   "cell_type": "code",
   "execution_count": 67,
   "metadata": {},
   "outputs": [
    {
     "data": {
      "text/plain": [
       "3011"
      ]
     },
     "execution_count": 67,
     "metadata": {},
     "output_type": "execute_result"
    }
   ],
   "source": [
    "google_1.count() # .count() excludes NaN values"
   ]
  },
  {
   "cell_type": "code",
   "execution_count": 68,
   "metadata": {},
   "outputs": [
    {
     "data": {
      "text/plain": [
       "3012"
      ]
     },
     "execution_count": 68,
     "metadata": {},
     "output_type": "execute_result"
    }
   ],
   "source": [
    "len(google_1)"
   ]
  },
  {
   "cell_type": "code",
   "execution_count": 69,
   "metadata": {},
   "outputs": [
    {
     "data": {
      "text/plain": [
       "1006942.0000000002"
      ]
     },
     "execution_count": 69,
     "metadata": {},
     "output_type": "execute_result"
    }
   ],
   "source": [
    "google.sum()"
   ]
  },
  {
   "cell_type": "code",
   "execution_count": 70,
   "metadata": {},
   "outputs": [
    {
     "data": {
      "text/plain": [
       "334.31009296148744"
      ]
     },
     "execution_count": 70,
     "metadata": {},
     "output_type": "execute_result"
    }
   ],
   "source": [
    "google.mean() # same as google.sum() / google.count()"
   ]
  },
  {
   "cell_type": "code",
   "execution_count": 71,
   "metadata": {},
   "outputs": [
    {
     "data": {
      "text/plain": [
       "782.22000000000003"
      ]
     },
     "execution_count": 71,
     "metadata": {},
     "output_type": "execute_result"
    }
   ],
   "source": [
    "google.min() # min(google)\n",
    "google.max() # max(google)"
   ]
  },
  {
   "cell_type": "code",
   "execution_count": 72,
   "metadata": {},
   "outputs": [
    {
     "data": {
      "text/plain": [
       "283.315"
      ]
     },
     "execution_count": 72,
     "metadata": {},
     "output_type": "execute_result"
    }
   ],
   "source": [
    "google.median()"
   ]
  },
  {
   "cell_type": "code",
   "execution_count": 73,
   "metadata": {},
   "outputs": [
    {
     "data": {
      "text/plain": [
       "0    291.21\n",
       "dtype: float64"
      ]
     },
     "execution_count": 73,
     "metadata": {},
     "output_type": "execute_result"
    }
   ],
   "source": [
    "google.mode() # represents the value that occurs the most frequently\n",
    "# returns a Series"
   ]
  },
  {
   "cell_type": "code",
   "execution_count": 74,
   "metadata": {},
   "outputs": [
    {
     "data": {
      "text/plain": [
       "count    3012.000000\n",
       "mean      334.310093\n",
       "std       173.187205\n",
       "min        49.950000\n",
       "25%       218.045000\n",
       "50%       283.315000\n",
       "75%       443.000000\n",
       "max       782.220000\n",
       "Name: Stock Price, dtype: float64"
      ]
     },
     "execution_count": 74,
     "metadata": {},
     "output_type": "execute_result"
    }
   ],
   "source": [
    "google.describe() # COOL :D"
   ]
  },
  {
   "cell_type": "markdown",
   "metadata": {},
   "source": [
    "# The `.idxmax()` and `.idxmin()` Methods"
   ]
  },
  {
   "cell_type": "code",
   "execution_count": 75,
   "metadata": {},
   "outputs": [
    {
     "data": {
      "text/plain": [
       "782.22000000000003"
      ]
     },
     "execution_count": 75,
     "metadata": {},
     "output_type": "execute_result"
    }
   ],
   "source": [
    "google.max()"
   ]
  },
  {
   "cell_type": "code",
   "execution_count": 76,
   "metadata": {},
   "outputs": [
    {
     "data": {
      "text/plain": [
       "49.950000000000003"
      ]
     },
     "execution_count": 76,
     "metadata": {},
     "output_type": "execute_result"
    }
   ],
   "source": [
    "google.min()"
   ]
  },
  {
   "cell_type": "code",
   "execution_count": 77,
   "metadata": {},
   "outputs": [
    {
     "data": {
      "text/plain": [
       "3011"
      ]
     },
     "execution_count": 77,
     "metadata": {},
     "output_type": "execute_result"
    }
   ],
   "source": [
    "google.idxmax() # id of max element"
   ]
  },
  {
   "cell_type": "code",
   "execution_count": 78,
   "metadata": {},
   "outputs": [
    {
     "data": {
      "text/plain": [
       "782.22000000000003"
      ]
     },
     "execution_count": 78,
     "metadata": {},
     "output_type": "execute_result"
    }
   ],
   "source": [
    "google[3011]"
   ]
  },
  {
   "cell_type": "code",
   "execution_count": 79,
   "metadata": {},
   "outputs": [
    {
     "data": {
      "text/plain": [
       "11"
      ]
     },
     "execution_count": 79,
     "metadata": {},
     "output_type": "execute_result"
    }
   ],
   "source": [
    "google.idxmin()"
   ]
  },
  {
   "cell_type": "code",
   "execution_count": 80,
   "metadata": {},
   "outputs": [
    {
     "data": {
      "text/plain": [
       "49.950000000000003"
      ]
     },
     "execution_count": 80,
     "metadata": {},
     "output_type": "execute_result"
    }
   ],
   "source": [
    "google[11]"
   ]
  },
  {
   "cell_type": "code",
   "execution_count": 81,
   "metadata": {},
   "outputs": [
    {
     "data": {
      "text/plain": [
       "49.950000000000003"
      ]
     },
     "execution_count": 81,
     "metadata": {},
     "output_type": "execute_result"
    }
   ],
   "source": [
    "# clunky .max()\n",
    "google[google.idxmin()]"
   ]
  },
  {
   "cell_type": "markdown",
   "metadata": {},
   "source": [
    "# The `.value_counts()` Method"
   ]
  },
  {
   "cell_type": "code",
   "execution_count": 82,
   "metadata": {},
   "outputs": [
    {
     "data": {
      "text/plain": [
       "Pokemon\n",
       "Bulbasaur    Grass\n",
       "Ivysaur      Grass\n",
       "Venusaur     Grass\n",
       "Name: Type, dtype: object"
      ]
     },
     "execution_count": 82,
     "metadata": {},
     "output_type": "execute_result"
    }
   ],
   "source": [
    "pokemon = pd.read_csv('datasets/pokemon.csv', index_col='Pokemon', squeeze=True)\n",
    "pokemon.head(3)"
   ]
  },
  {
   "cell_type": "code",
   "execution_count": 83,
   "metadata": {},
   "outputs": [
    {
     "data": {
      "text/plain": [
       "Water       105\n",
       "Normal       93\n",
       "Grass        66\n",
       "Bug          63\n",
       "Psychic      47\n",
       "Fire         47\n",
       "Rock         41\n",
       "Electric     36\n",
       "Ground       30\n",
       "Poison       28\n",
       "Dark         28\n",
       "Fighting     25\n",
       "Dragon       24\n",
       "Ice          23\n",
       "Ghost        23\n",
       "Steel        22\n",
       "Fairy        17\n",
       "Flying        3\n",
       "Name: Type, dtype: int64"
      ]
     },
     "execution_count": 83,
     "metadata": {},
     "output_type": "execute_result"
    }
   ],
   "source": [
    "pokemon.value_counts()\n",
    "# pokemon.value_counts().sum() equals pokemon.count()"
   ]
  },
  {
   "cell_type": "code",
   "execution_count": 84,
   "metadata": {},
   "outputs": [
    {
     "data": {
      "text/plain": [
       "Counter({'Bug': 63,\n",
       "         'Dark': 28,\n",
       "         'Dragon': 24,\n",
       "         'Electric': 36,\n",
       "         'Fairy': 17,\n",
       "         'Fighting': 25,\n",
       "         'Fire': 47,\n",
       "         'Flying': 3,\n",
       "         'Ghost': 23,\n",
       "         'Grass': 66,\n",
       "         'Ground': 30,\n",
       "         'Ice': 23,\n",
       "         'Normal': 93,\n",
       "         'Poison': 28,\n",
       "         'Psychic': 47,\n",
       "         'Rock': 41,\n",
       "         'Steel': 22,\n",
       "         'Water': 105})"
      ]
     },
     "execution_count": 84,
     "metadata": {},
     "output_type": "execute_result"
    }
   ],
   "source": [
    "from collections import Counter\n",
    "Counter(pokemon)"
   ]
  },
  {
   "cell_type": "code",
   "execution_count": 85,
   "metadata": {},
   "outputs": [
    {
     "data": {
      "text/plain": [
       "Flying        3\n",
       "Fairy        17\n",
       "Steel        22\n",
       "Ghost        23\n",
       "Ice          23\n",
       "Dragon       24\n",
       "Fighting     25\n",
       "Dark         28\n",
       "Poison       28\n",
       "Ground       30\n",
       "Electric     36\n",
       "Rock         41\n",
       "Fire         47\n",
       "Psychic      47\n",
       "Bug          63\n",
       "Grass        66\n",
       "Normal       93\n",
       "Water       105\n",
       "Name: Type, dtype: int64"
      ]
     },
     "execution_count": 85,
     "metadata": {},
     "output_type": "execute_result"
    }
   ],
   "source": [
    "pokemon.value_counts(ascending=True)"
   ]
  },
  {
   "cell_type": "markdown",
   "metadata": {},
   "source": [
    "# The `.apply()` Method"
   ]
  },
  {
   "cell_type": "code",
   "execution_count": 86,
   "metadata": {},
   "outputs": [
    {
     "data": {
      "text/plain": [
       "0    50.12\n",
       "1    54.10\n",
       "2    54.65\n",
       "3    52.38\n",
       "4    52.95\n",
       "5    53.90\n",
       "Name: Stock Price, dtype: float64"
      ]
     },
     "execution_count": 86,
     "metadata": {},
     "output_type": "execute_result"
    }
   ],
   "source": [
    "google.head(6)"
   ]
  },
  {
   "cell_type": "code",
   "execution_count": 87,
   "metadata": {
    "collapsed": true
   },
   "outputs": [],
   "source": [
    "def classify_performance(number):\n",
    "    boundaries = {\n",
    "        300 : 'OK',\n",
    "        650 : 'Satisfactory'\n",
    "    }\n",
    "    for i in boundaries:\n",
    "        if number < i:\n",
    "            return boundaries[i]\n",
    "    else:\n",
    "        return 'Incredible!'"
   ]
  },
  {
   "cell_type": "code",
   "execution_count": 88,
   "metadata": {},
   "outputs": [
    {
     "data": {
      "text/plain": [
       "'Satisfactory'"
      ]
     },
     "execution_count": 88,
     "metadata": {},
     "output_type": "execute_result"
    }
   ],
   "source": [
    "classify_performance(465)"
   ]
  },
  {
   "cell_type": "code",
   "execution_count": 89,
   "metadata": {},
   "outputs": [
    {
     "data": {
      "text/plain": [
       "3007    Incredible!\n",
       "3008    Incredible!\n",
       "3009    Incredible!\n",
       "3010    Incredible!\n",
       "3011    Incredible!\n",
       "Name: Stock Price, dtype: object"
      ]
     },
     "execution_count": 89,
     "metadata": {},
     "output_type": "execute_result"
    }
   ],
   "source": [
    "google.apply(classify_performance).tail()"
   ]
  },
  {
   "cell_type": "code",
   "execution_count": 90,
   "metadata": {},
   "outputs": [
    {
     "data": {
      "text/plain": [
       "0    50.12\n",
       "1    54.10\n",
       "2    54.65\n",
       "3    52.38\n",
       "4    52.95\n",
       "Name: Stock Price, dtype: float64"
      ]
     },
     "execution_count": 90,
     "metadata": {},
     "output_type": "execute_result"
    }
   ],
   "source": [
    "google.head()"
   ]
  },
  {
   "cell_type": "code",
   "execution_count": 91,
   "metadata": {},
   "outputs": [
    {
     "data": {
      "text/plain": [
       "0    51.12\n",
       "1    55.10\n",
       "2    55.65\n",
       "3    53.38\n",
       "4    53.95\n",
       "Name: Stock Price, dtype: float64"
      ]
     },
     "execution_count": 91,
     "metadata": {},
     "output_type": "execute_result"
    }
   ],
   "source": [
    "google.apply(lambda x: x + 1).head()"
   ]
  },
  {
   "cell_type": "markdown",
   "metadata": {},
   "source": [
    "# The `.map()` Method"
   ]
  },
  {
   "cell_type": "code",
   "execution_count": 92,
   "metadata": {},
   "outputs": [
    {
     "data": {
      "text/plain": [
       "0    Bulbasaur\n",
       "1      Ivysaur\n",
       "2     Venusaur\n",
       "Name: Pokemon, dtype: object"
      ]
     },
     "execution_count": 92,
     "metadata": {},
     "output_type": "execute_result"
    }
   ],
   "source": [
    "pokemon_names = pd.read_csv('datasets/pokemon.csv', usecols=['Pokemon'], squeeze=True)\n",
    "pokemon_names.head(3)"
   ]
  },
  {
   "cell_type": "code",
   "execution_count": 93,
   "metadata": {},
   "outputs": [
    {
     "data": {
      "text/plain": [
       "Pokemon\n",
       "Bulbasaur    Grass\n",
       "Ivysaur      Grass\n",
       "Venusaur     Grass\n",
       "Name: Type, dtype: object"
      ]
     },
     "execution_count": 93,
     "metadata": {},
     "output_type": "execute_result"
    }
   ],
   "source": [
    "pokemon_types = pd.read_csv('datasets/pokemon.csv', index_col='Pokemon', squeeze=True)\n",
    "pokemon_types.head(3)"
   ]
  },
  {
   "cell_type": "code",
   "execution_count": 94,
   "metadata": {
    "collapsed": true
   },
   "outputs": [
    {
     "data": {
      "text/plain": [
       "0         Grass\n",
       "1         Grass\n",
       "2         Grass\n",
       "3          Fire\n",
       "4          Fire\n",
       "5          Fire\n",
       "6         Water\n",
       "7         Water\n",
       "8         Water\n",
       "9           Bug\n",
       "10          Bug\n",
       "11          Bug\n",
       "12          Bug\n",
       "13          Bug\n",
       "14          Bug\n",
       "15       Normal\n",
       "16       Normal\n",
       "17       Normal\n",
       "18       Normal\n",
       "19       Normal\n",
       "20       Normal\n",
       "21       Normal\n",
       "22       Poison\n",
       "23       Poison\n",
       "24     Electric\n",
       "25     Electric\n",
       "26       Ground\n",
       "27       Ground\n",
       "28       Poison\n",
       "29       Poison\n",
       "         ...   \n",
       "691       Water\n",
       "692       Water\n",
       "693    Electric\n",
       "694    Electric\n",
       "695        Rock\n",
       "696        Rock\n",
       "697        Rock\n",
       "698        Rock\n",
       "699       Fairy\n",
       "700    Fighting\n",
       "701    Electric\n",
       "702        Rock\n",
       "703      Dragon\n",
       "704      Dragon\n",
       "705      Dragon\n",
       "706       Steel\n",
       "707       Ghost\n",
       "708       Ghost\n",
       "709       Ghost\n",
       "710       Ghost\n",
       "711         Ice\n",
       "712         Ice\n",
       "713      Flying\n",
       "714      Flying\n",
       "715       Fairy\n",
       "716        Dark\n",
       "717      Dragon\n",
       "718        Rock\n",
       "719     Psychic\n",
       "720        Fire\n",
       "Name: Pokemon, Length: 721, dtype: object"
      ]
     },
     "execution_count": 94,
     "metadata": {},
     "output_type": "execute_result"
    }
   ],
   "source": [
    "pokemon_names.map(pokemon_types) # both Series"
   ]
  },
  {
   "cell_type": "code",
   "execution_count": 95,
   "metadata": {
    "collapsed": true
   },
   "outputs": [],
   "source": [
    "pokemon_names = pd.read_csv('datasets/pokemon.csv', usecols=['Pokemon'], squeeze=True)\n",
    "pokemon_types = pd.read_csv('datasets/pokemon.csv', index_col='Pokemon', squeeze=True).to_dict()"
   ]
  },
  {
   "cell_type": "code",
   "execution_count": 96,
   "metadata": {
    "collapsed": true
   },
   "outputs": [
    {
     "data": {
      "text/plain": [
       "0         Grass\n",
       "1         Grass\n",
       "2         Grass\n",
       "3          Fire\n",
       "4          Fire\n",
       "5          Fire\n",
       "6         Water\n",
       "7         Water\n",
       "8         Water\n",
       "9           Bug\n",
       "10          Bug\n",
       "11          Bug\n",
       "12          Bug\n",
       "13          Bug\n",
       "14          Bug\n",
       "15       Normal\n",
       "16       Normal\n",
       "17       Normal\n",
       "18       Normal\n",
       "19       Normal\n",
       "20       Normal\n",
       "21       Normal\n",
       "22       Poison\n",
       "23       Poison\n",
       "24     Electric\n",
       "25     Electric\n",
       "26       Ground\n",
       "27       Ground\n",
       "28       Poison\n",
       "29       Poison\n",
       "         ...   \n",
       "691       Water\n",
       "692       Water\n",
       "693    Electric\n",
       "694    Electric\n",
       "695        Rock\n",
       "696        Rock\n",
       "697        Rock\n",
       "698        Rock\n",
       "699       Fairy\n",
       "700    Fighting\n",
       "701    Electric\n",
       "702        Rock\n",
       "703      Dragon\n",
       "704      Dragon\n",
       "705      Dragon\n",
       "706       Steel\n",
       "707       Ghost\n",
       "708       Ghost\n",
       "709       Ghost\n",
       "710       Ghost\n",
       "711         Ice\n",
       "712         Ice\n",
       "713      Flying\n",
       "714      Flying\n",
       "715       Fairy\n",
       "716        Dark\n",
       "717      Dragon\n",
       "718        Rock\n",
       "719     Psychic\n",
       "720        Fire\n",
       "Name: Pokemon, Length: 721, dtype: object"
      ]
     },
     "execution_count": 96,
     "metadata": {},
     "output_type": "execute_result"
    }
   ],
   "source": [
    "pokemon_names.map(pokemon_types) # and dict"
   ]
  }
 ],
 "metadata": {
  "kernelspec": {
   "display_name": "Python 3",
   "language": "python",
   "name": "python3"
  },
  "language_info": {
   "codemirror_mode": {
    "name": "ipython",
    "version": 3
   },
   "file_extension": ".py",
   "mimetype": "text/x-python",
   "name": "python",
   "nbconvert_exporter": "python",
   "pygments_lexer": "ipython3",
   "version": "3.6.1"
  }
 },
 "nbformat": 4,
 "nbformat_minor": 2
}
